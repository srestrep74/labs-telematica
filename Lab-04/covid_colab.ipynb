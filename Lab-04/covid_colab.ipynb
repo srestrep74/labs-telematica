{
  "cells": [
    {
      "cell_type": "code",
      "source": [],
      "metadata": {
        "id": "BBZDbgNOSntW"
      },
      "execution_count": null,
      "outputs": []
    },
    {
      "cell_type": "markdown",
      "metadata": {
        "id": "dX9gpRI_lylx"
      },
      "source": [
        "# Covid19 PySpark"
      ]
    },
    {
      "cell_type": "code",
      "execution_count": null,
      "metadata": {
        "colab": {
          "base_uri": "https://localhost:8080/"
        },
        "id": "sfJJDBemlyl1",
        "outputId": "c3d8440d-5cc2-4dd4-bfc2-ec28ec369b8e"
      },
      "outputs": [
        {
          "name": "stdout",
          "output_type": "stream",
          "text": [
            "Mounted at /content/gdrive\n"
          ]
        }
      ],
      "source": [
        "from google.colab import drive\n",
        "drive.mount('/content/gdrive')"
      ]
    },
    {
      "cell_type": "code",
      "execution_count": null,
      "metadata": {
        "id": "LvlnphUHlyl3"
      },
      "outputs": [],
      "source": [
        "!apt-get install openjdk-11-jdk-headless -qq > /dev/null\n",
        "!wget -q https://dlcdn.apache.org/spark/spark-3.5.3/spark-3.5.3-bin-hadoop3.tgz\n",
        "!tar xf spark-3.5.3-bin-hadoop3.tgz\n",
        "!pip install -q findspark"
      ]
    },
    {
      "cell_type": "code",
      "execution_count": null,
      "metadata": {
        "id": "T-1c59zbS6CM"
      },
      "outputs": [],
      "source": [
        "!apt-get install openjdk-8-jdk-headless -qq > /dev/null\n",
        "!wget -q https://repo1.maven.org/maven2/org/apache/hadoop/hadoop-aws/3.2.0/hadoop-aws-3.2.0.jar\n",
        "!wget -q https://repo1.maven.org/maven2/com/amazonaws/aws-java-sdk-bundle/1.11.375/aws-java-sdk-bundle-1.11.375.jar"
      ]
    },
    {
      "cell_type": "code",
      "execution_count": null,
      "metadata": {
        "id": "MvnjUylwlyl4"
      },
      "outputs": [],
      "source": [
        "import os\n",
        "os.environ[\"JAVA_HOME\"] = \"/usr/lib/jvm/java-11-openjdk-amd64\"\n",
        "os.environ[\"SPARK_HOME\"] = \"/content/spark-3.5.3-bin-hadoop3\""
      ]
    },
    {
      "cell_type": "code",
      "execution_count": null,
      "metadata": {
        "id": "xzFlFASmlyl5"
      },
      "outputs": [],
      "source": [
        "import findspark\n",
        "findspark.init()\n",
        "from pyspark.sql import SparkSession\n",
        "spark = SparkSession.builder \\\n",
        "    .appName(\"data_processing\")\\\n",
        "    .master(\"local[*]\")\\\n",
        "    .config(\"spark.driver.memory\",\"16G\")\\\n",
        "    .config(\"spark.driver.maxResultSize\", \"0\") \\\n",
        "    .config(\"spark.kryoserializer.buffer.max\", \"2000M\")\\\n",
        "    .config(\"spark.jars.packages\", \"com.amazonaws:aws-java-sdk:1.11.1034,org.apache.hadoop:hadoop-aws:3.3.4\")\\\n",
        "    .config('fs.s3a.access.key', 'ACCESS_KEY') \\\n",
        "    .config('fs.s3a.secret.key', 'SECRET_KEY') \\\n",
        "    .config('fs.s3a.session.token', 'SESSION_TOKEN') \\\n",
        "    .config('fs.s3a.path.style.access', 'true') \\\n",
        "    .config('fs.s3a.impl', 'org.apache.hadoop.fs.s3a.S3AFileSystem') \\\n",
        "    .config('fs.s3a.endpoint', 's3.amazonaws.com') \\\n",
        "    .getOrCreate()\n",
        "sc = spark.sparkContext"
      ]
    },
    {
      "cell_type": "code",
      "execution_count": null,
      "metadata": {
        "colab": {
          "base_uri": "https://localhost:8080/",
          "height": 222
        },
        "id": "zfbgEwvBlyl6",
        "outputId": "0d0c28f2-00a5-4175-bf9e-1fa28e807fe0"
      },
      "outputs": [
        {
          "data": {
            "text/html": [
              "\n",
              "            <div>\n",
              "                <p><b>SparkSession - in-memory</b></p>\n",
              "                \n",
              "        <div>\n",
              "            <p><b>SparkContext</b></p>\n",
              "\n",
              "            <p><a href=\"http://35361b877eab:4040\">Spark UI</a></p>\n",
              "\n",
              "            <dl>\n",
              "              <dt>Version</dt>\n",
              "                <dd><code>v3.5.3</code></dd>\n",
              "              <dt>Master</dt>\n",
              "                <dd><code>local[*]</code></dd>\n",
              "              <dt>AppName</dt>\n",
              "                <dd><code>data_processing</code></dd>\n",
              "            </dl>\n",
              "        </div>\n",
              "        \n",
              "            </div>\n",
              "        "
            ],
            "text/plain": [
              "<pyspark.sql.session.SparkSession at 0x7f0c833db490>"
            ]
          },
          "execution_count": 6,
          "metadata": {},
          "output_type": "execute_result"
        }
      ],
      "source": [
        "spark"
      ]
    },
    {
      "cell_type": "code",
      "execution_count": null,
      "metadata": {
        "colab": {
          "base_uri": "https://localhost:8080/",
          "height": 198
        },
        "id": "pDVoRw_Vlyl7",
        "outputId": "fb9fa193-e4a9-4617-fa7c-0170bc8481a8"
      },
      "outputs": [
        {
          "data": {
            "text/html": [
              "\n",
              "        <div>\n",
              "            <p><b>SparkContext</b></p>\n",
              "\n",
              "            <p><a href=\"http://35361b877eab:4040\">Spark UI</a></p>\n",
              "\n",
              "            <dl>\n",
              "              <dt>Version</dt>\n",
              "                <dd><code>v3.5.3</code></dd>\n",
              "              <dt>Master</dt>\n",
              "                <dd><code>local[*]</code></dd>\n",
              "              <dt>AppName</dt>\n",
              "                <dd><code>data_processing</code></dd>\n",
              "            </dl>\n",
              "        </div>\n",
              "        "
            ],
            "text/plain": [
              "<SparkContext master=local[*] appName=data_processing>"
            ]
          },
          "execution_count": 7,
          "metadata": {},
          "output_type": "execute_result"
        }
      ],
      "source": [
        "sc"
      ]
    },
    {
      "cell_type": "code",
      "execution_count": null,
      "metadata": {
        "id": "3LAORjzwlyl8"
      },
      "outputs": [],
      "source": [
        "df = spark.read.csv('/content/gdrive/MyDrive/labs/bigdata//covid19/CasosPositivosCovid19.csv', inferSchema=True, header=True)"
      ]
    },
    {
      "cell_type": "code",
      "execution_count": null,
      "metadata": {
        "colab": {
          "base_uri": "https://localhost:8080/"
        },
        "id": "bo1LscY9lyl8",
        "outputId": "58594b56-f6d9-42bd-937e-43b1112cb212"
      },
      "outputs": [
        {
          "data": {
            "text/plain": [
              "['fecha reporte web',\n",
              " 'ID de caso',\n",
              " 'Fecha de notificación',\n",
              " 'Código DIVIPOLA departamento',\n",
              " 'Nombre departamento',\n",
              " 'Código DIVIPOLA municipio',\n",
              " 'Nombre municipio',\n",
              " 'Edad',\n",
              " 'Unidad de medida de edad',\n",
              " 'Sexo',\n",
              " 'Tipo de contagio',\n",
              " 'Ubicación del caso',\n",
              " 'Estado',\n",
              " 'Código ISO del país',\n",
              " 'Nombre del país',\n",
              " 'Recuperado',\n",
              " 'Fecha de inicio de síntomas',\n",
              " 'Fecha de muerte',\n",
              " 'Fecha de diagnóstico',\n",
              " 'Fecha de recuperación',\n",
              " 'Tipo de recuperación',\n",
              " 'Pertenencia étnica',\n",
              " 'Nombre del grupo étnico']"
            ]
          },
          "execution_count": 9,
          "metadata": {},
          "output_type": "execute_result"
        }
      ],
      "source": [
        "df.columns"
      ]
    },
    {
      "cell_type": "code",
      "execution_count": null,
      "metadata": {
        "colab": {
          "base_uri": "https://localhost:8080/"
        },
        "id": "OnyuePkClyl9",
        "outputId": "59177eb4-19ab-4b6a-e213-4f5fb49c2061"
      },
      "outputs": [
        {
          "data": {
            "text/plain": [
              "23"
            ]
          },
          "execution_count": 10,
          "metadata": {},
          "output_type": "execute_result"
        }
      ],
      "source": [
        "len(df.columns)"
      ]
    },
    {
      "cell_type": "code",
      "execution_count": null,
      "metadata": {
        "colab": {
          "base_uri": "https://localhost:8080/"
        },
        "id": "rUIUWwUzlyl-",
        "outputId": "ce30ab53-6a1f-4b2f-dd84-be2a3f2f6d21"
      },
      "outputs": [
        {
          "data": {
            "text/plain": [
              "100000"
            ]
          },
          "execution_count": 11,
          "metadata": {},
          "output_type": "execute_result"
        }
      ],
      "source": [
        "df.count()"
      ]
    },
    {
      "cell_type": "code",
      "execution_count": null,
      "metadata": {
        "colab": {
          "base_uri": "https://localhost:8080/"
        },
        "id": "3LmB9leSlyl-",
        "outputId": "3812ce9e-9d27-4151-ecd9-d9fa3572580e"
      },
      "outputs": [
        {
          "name": "stdout",
          "output_type": "stream",
          "text": [
            "(100000, 23)\n"
          ]
        }
      ],
      "source": [
        "print((df.count(), len(df.columns)))"
      ]
    },
    {
      "cell_type": "code",
      "execution_count": null,
      "metadata": {
        "colab": {
          "base_uri": "https://localhost:8080/"
        },
        "id": "pbLRmcTIlyl_",
        "outputId": "c18f9ef2-cb8a-4ede-d7a3-4fa60e2830da"
      },
      "outputs": [
        {
          "name": "stdout",
          "output_type": "stream",
          "text": [
            "root\n",
            " |-- fecha reporte web: string (nullable = true)\n",
            " |-- ID de caso: integer (nullable = true)\n",
            " |-- Fecha de notificación: string (nullable = true)\n",
            " |-- Código DIVIPOLA departamento: integer (nullable = true)\n",
            " |-- Nombre departamento: string (nullable = true)\n",
            " |-- Código DIVIPOLA municipio: integer (nullable = true)\n",
            " |-- Nombre municipio: string (nullable = true)\n",
            " |-- Edad: integer (nullable = true)\n",
            " |-- Unidad de medida de edad: integer (nullable = true)\n",
            " |-- Sexo: string (nullable = true)\n",
            " |-- Tipo de contagio: string (nullable = true)\n",
            " |-- Ubicación del caso: string (nullable = true)\n",
            " |-- Estado: string (nullable = true)\n",
            " |-- Código ISO del país: integer (nullable = true)\n",
            " |-- Nombre del país: string (nullable = true)\n",
            " |-- Recuperado: string (nullable = true)\n",
            " |-- Fecha de inicio de síntomas: string (nullable = true)\n",
            " |-- Fecha de muerte: string (nullable = true)\n",
            " |-- Fecha de diagnóstico: string (nullable = true)\n",
            " |-- Fecha de recuperación: string (nullable = true)\n",
            " |-- Tipo de recuperación: string (nullable = true)\n",
            " |-- Pertenencia étnica: integer (nullable = true)\n",
            " |-- Nombre del grupo étnico: string (nullable = true)\n",
            "\n"
          ]
        }
      ],
      "source": [
        "df.printSchema()"
      ]
    },
    {
      "cell_type": "code",
      "execution_count": null,
      "metadata": {
        "id": "L9vU4Osr0xZC"
      },
      "outputs": [],
      "source": [
        "df = df.withColumnRenamed(\"fecha reporte web\", \"fecha_reporte_web\") \\\n",
        "       .withColumnRenamed(\"ID de caso\", \"id_caso\") \\\n",
        "       .withColumnRenamed(\"Fecha de notificación\", \"fecha_notificacion\") \\\n",
        "       .withColumnRenamed(\"Código DIVIPOLA departamento\", \"codigo_divipola_departamento\") \\\n",
        "       .withColumnRenamed(\"Nombre departamento\", \"nombre_departamento\") \\\n",
        "       .withColumnRenamed(\"Código DIVIPOLA municipio\", \"codigo_divipola_municipio\") \\\n",
        "       .withColumnRenamed(\"Nombre municipio\", \"nombre_municipio\") \\\n",
        "       .withColumnRenamed(\"Edad\", \"edad\") \\\n",
        "       .withColumnRenamed(\"Unidad de medida de edad\", \"unidad_medida_edad\") \\\n",
        "       .withColumnRenamed(\"Sexo\", \"sexo\") \\\n",
        "       .withColumnRenamed(\"Tipo de contagio\", \"tipo_contagio\") \\\n",
        "       .withColumnRenamed(\"Ubicación del caso\", \"ubicacion_caso\") \\\n",
        "       .withColumnRenamed(\"Estado\", \"estado\") \\\n",
        "       .withColumnRenamed(\"Código ISO del país\", \"codigo_iso_pais\") \\\n",
        "       .withColumnRenamed(\"Nombre del país\", \"nombre_pais\") \\\n",
        "       .withColumnRenamed(\"Recuperado\", \"recuperado\") \\\n",
        "       .withColumnRenamed(\"Fecha de inicio de síntomas\", \"fecha_inicio_sintomas\") \\\n",
        "       .withColumnRenamed(\"Fecha de muerte\", \"fecha_muerte\") \\\n",
        "       .withColumnRenamed(\"Fecha de diagnóstico\", \"fecha_diagnostico\") \\\n",
        "       .withColumnRenamed(\"Fecha de recuperación\", \"fecha_recuperacion\") \\\n",
        "       .withColumnRenamed(\"Tipo de recuperación\", \"tipo_recuperacion\") \\\n",
        "       .withColumnRenamed(\"Pertenencia étnica\", \"pertenencia_etnica\") \\\n",
        "       .withColumnRenamed(\"Nombre del grupo étnico\", \"nombre_grupo_etnico\")"
      ]
    },
    {
      "cell_type": "code",
      "execution_count": null,
      "metadata": {
        "colab": {
          "base_uri": "https://localhost:8080/"
        },
        "id": "a5DRFHNVlyl_",
        "outputId": "4a2f169f-29ab-4bac-b4cf-f72ff2029c03"
      },
      "outputs": [
        {
          "name": "stdout",
          "output_type": "stream",
          "text": [
            "+-----------------+-------+------------------+----------------------------+-------------------+-------------------------+----------------+----+------------------+----+-------------+--------------+------+---------------+-----------+----------+---------------------+------------+-----------------+------------------+-----------------+------------------+-------------------+\n",
            "|fecha_reporte_web|id_caso|fecha_notificacion|codigo_divipola_departamento|nombre_departamento|codigo_divipola_municipio|nombre_municipio|edad|unidad_medida_edad|sexo|tipo_contagio|ubicacion_caso|estado|codigo_iso_pais|nombre_pais|recuperado|fecha_inicio_sintomas|fecha_muerte|fecha_diagnostico|fecha_recuperacion|tipo_recuperacion|pertenencia_etnica|nombre_grupo_etnico|\n",
            "+-----------------+-------+------------------+----------------------------+-------------------+-------------------------+----------------+----+------------------+----+-------------+--------------+------+---------------+-----------+----------+---------------------+------------+-----------------+------------------+-----------------+------------------+-------------------+\n",
            "| 6/3/2020 0:00:00|      1|  2/3/2020 0:00:00|                          11|             BOGOTA|                    11001|          BOGOTA|  19|                 1|   F|    Importado|          Casa|  Leve|            380|     ITALIA|Recuperado|    27/2/2020 0:00:00|        NULL| 6/3/2020 0:00:00| 13/3/2020 0:00:00|              PCR|                 6|               NULL|\n",
            "| 9/3/2020 0:00:00|      2|  6/3/2020 0:00:00|                          76|              VALLE|                    76111|            BUGA|  34|                 1|   M|    Importado|          Casa|  Leve|            724|     ESPAÑA|Recuperado|     4/3/2020 0:00:00|        NULL| 9/3/2020 0:00:00| 19/3/2020 0:00:00|              PCR|                 5|               NULL|\n",
            "| 9/3/2020 0:00:00|      3|  7/3/2020 0:00:00|                           5|          ANTIOQUIA|                     5001|        MEDELLIN|  50|                 1|   F|    Importado|          Casa|  Leve|            724|     ESPAÑA|Recuperado|    29/2/2020 0:00:00|        NULL| 9/3/2020 0:00:00| 15/3/2020 0:00:00|              PCR|                 6|               NULL|\n",
            "|11/3/2020 0:00:00|      4|  9/3/2020 0:00:00|                           5|          ANTIOQUIA|                     5001|        MEDELLIN|  55|                 1|   M|  Relacionado|          Casa|  Leve|           NULL|       NULL|Recuperado|     6/3/2020 0:00:00|        NULL|11/3/2020 0:00:00| 26/3/2020 0:00:00|              PCR|                 6|               NULL|\n",
            "|11/3/2020 0:00:00|      5|  9/3/2020 0:00:00|                           5|          ANTIOQUIA|                     5001|        MEDELLIN|  25|                 1|   M|  Relacionado|          Casa|  Leve|           NULL|       NULL|Recuperado|     8/3/2020 0:00:00|        NULL|11/3/2020 0:00:00| 23/3/2020 0:00:00|              PCR|                 6|               NULL|\n",
            "+-----------------+-------+------------------+----------------------------+-------------------+-------------------------+----------------+----+------------------+----+-------------+--------------+------+---------------+-----------+----------+---------------------+------------+-----------------+------------------+-----------------+------------------+-------------------+\n",
            "only showing top 5 rows\n",
            "\n"
          ]
        }
      ],
      "source": [
        "df.show(5)"
      ]
    },
    {
      "cell_type": "code",
      "execution_count": null,
      "metadata": {
        "colab": {
          "base_uri": "https://localhost:8080/"
        },
        "id": "TktzbJyvlyl_",
        "outputId": "c070f4a4-6b7d-4125-9d21-ff676334d61b"
      },
      "outputs": [
        {
          "name": "stdout",
          "output_type": "stream",
          "text": [
            "+----+----+\n",
            "|edad|sexo|\n",
            "+----+----+\n",
            "|  19|   F|\n",
            "|  34|   M|\n",
            "|  50|   F|\n",
            "|  55|   M|\n",
            "|  25|   M|\n",
            "+----+----+\n",
            "only showing top 5 rows\n",
            "\n"
          ]
        }
      ],
      "source": [
        "df.select('edad', 'sexo').show(5)"
      ]
    },
    {
      "cell_type": "code",
      "execution_count": null,
      "metadata": {
        "colab": {
          "base_uri": "https://localhost:8080/"
        },
        "id": "rROFZNZTlyl_",
        "outputId": "faf1b169-2ebb-44f4-c5da-9ec70505c0f7"
      },
      "outputs": [
        {
          "name": "stdout",
          "output_type": "stream",
          "text": [
            "+-------+-----------------+------------------+------------------+----------------------------+-------------------+-------------------------+----------------+------------------+-------------------+------+-------------+--------------+---------+------------------+-----------+----------+---------------------+----------------+-----------------+------------------+-----------------+------------------+-------------------+\n",
            "|summary|fecha_reporte_web|           id_caso|fecha_notificacion|codigo_divipola_departamento|nombre_departamento|codigo_divipola_municipio|nombre_municipio|              edad| unidad_medida_edad|  sexo|tipo_contagio|ubicacion_caso|   estado|   codigo_iso_pais|nombre_pais|recuperado|fecha_inicio_sintomas|    fecha_muerte|fecha_diagnostico|fecha_recuperacion|tipo_recuperacion|pertenencia_etnica|nombre_grupo_etnico|\n",
            "+-------+-----------------+------------------+------------------+----------------------------+-------------------+-------------------------+----------------+------------------+-------------------+------+-------------+--------------+---------+------------------+-----------+----------+---------------------+----------------+-----------------+------------------+-----------------+------------------+-------------------+\n",
            "|  count|           100000|            100000|            100000|                      100000|             100000|                   100000|          100000|            100000|             100000|100000|       100000|        100000|   100000|               912|        912|    100000|                91615|            5633|            97693|             94832|            94832|            100000|               5658|\n",
            "|   mean|             NULL|       50038.74855|              NULL|                   2631.6288|               NULL|              25327.34487|            NULL|          39.30175|            1.00637|  NULL|         NULL|          NULL|     NULL| 596.3475877192982|       NULL|      NULL|                 NULL|            NULL|             NULL|              NULL|             NULL|           5.57693|               NULL|\n",
            "| stddev|             NULL|28870.559312724497|              NULL|           6172.660309006438|               NULL|       25830.580807180544|            NULL|18.420127848324004|0.08893538213232118|  NULL|         NULL|          NULL|     NULL|255.56508665655983|       NULL|      NULL|                 NULL|            NULL|             NULL|              NULL|             NULL| 1.182825331930982|               NULL|\n",
            "|    min| 1/4/2020 0:00:00|                 1|  1/4/2020 0:00:00|                           5|           AMAZONAS|                     5001|          ABREGO|                 1|                  1|     F|  Comunitaria|          Casa|Fallecido|                32|   ALEMANIA| Fallecido|     1/3/2020 0:00:00|1/1/2021 0:00:00| 1/4/2020 0:00:00|  1/1/2021 0:00:00|              PCR|                 1|             AMBALO|\n",
            "|    max| 9/6/2020 0:00:00|            100040|  9/7/2020 0:00:00|                       47001|            VICHADA|                    99001| puerto COLOMBIA|               104|                  3|     M|  Relacionado|           N/A|      N/A|               862|  VENEZUELA| fallecido|     9/7/2020 0:00:00|9/9/2020 0:00:00| 9/9/2020 0:00:00|  9/8/2020 0:00:00|           Tiempo|                 6|               ZENU|\n",
            "+-------+-----------------+------------------+------------------+----------------------------+-------------------+-------------------------+----------------+------------------+-------------------+------+-------------+--------------+---------+------------------+-----------+----------+---------------------+----------------+-----------------+------------------+-----------------+------------------+-------------------+\n",
            "\n"
          ]
        }
      ],
      "source": [
        "df.describe().show()"
      ]
    },
    {
      "cell_type": "code",
      "execution_count": null,
      "metadata": {
        "id": "x895PQEuRtfl"
      },
      "outputs": [],
      "source": [
        "from pyspark.sql.functions import when"
      ]
    },
    {
      "cell_type": "code",
      "execution_count": null,
      "metadata": {
        "colab": {
          "base_uri": "https://localhost:8080/"
        },
        "id": "9k8uuEG9SFw4",
        "outputId": "030a4147-172f-46ea-9c29-cc3095dc766b"
      },
      "outputs": [
        {
          "name": "stdout",
          "output_type": "stream",
          "text": [
            "+-----------------+-------+------------------+----------------------------+-------------------+-------------------------+----------------+----+------------------+----+-------------+--------------+------+---------------+--------------------+----------+---------------------+------------+-----------------+------------------+-----------------+------------------+-------------------+----------+\n",
            "|fecha_reporte_web|id_caso|fecha_notificacion|codigo_divipola_departamento|nombre_departamento|codigo_divipola_municipio|nombre_municipio|edad|unidad_medida_edad|sexo|tipo_contagio|ubicacion_caso|estado|codigo_iso_pais|         nombre_pais|recuperado|fecha_inicio_sintomas|fecha_muerte|fecha_diagnostico|fecha_recuperacion|tipo_recuperacion|pertenencia_etnica|nombre_grupo_etnico|es_español|\n",
            "+-----------------+-------+------------------+----------------------------+-------------------+-------------------------+----------------+----+------------------+----+-------------+--------------+------+---------------+--------------------+----------+---------------------+------------+-----------------+------------------+-----------------+------------------+-------------------+----------+\n",
            "| 6/3/2020 0:00:00|      1|  2/3/2020 0:00:00|                          11|             BOGOTA|                    11001|          BOGOTA|  19|                 1|   F|    Importado|          Casa|  Leve|            380|              ITALIA|Recuperado|    27/2/2020 0:00:00|        NULL| 6/3/2020 0:00:00| 13/3/2020 0:00:00|              PCR|                 6|               NULL|     false|\n",
            "| 9/3/2020 0:00:00|      2|  6/3/2020 0:00:00|                          76|              VALLE|                    76111|            BUGA|  34|                 1|   M|    Importado|          Casa|  Leve|            724|              ESPAÑA|Recuperado|     4/3/2020 0:00:00|        NULL| 9/3/2020 0:00:00| 19/3/2020 0:00:00|              PCR|                 5|               NULL|      true|\n",
            "| 9/3/2020 0:00:00|      3|  7/3/2020 0:00:00|                           5|          ANTIOQUIA|                     5001|        MEDELLIN|  50|                 1|   F|    Importado|          Casa|  Leve|            724|              ESPAÑA|Recuperado|    29/2/2020 0:00:00|        NULL| 9/3/2020 0:00:00| 15/3/2020 0:00:00|              PCR|                 6|               NULL|      true|\n",
            "|11/3/2020 0:00:00|      4|  9/3/2020 0:00:00|                           5|          ANTIOQUIA|                     5001|        MEDELLIN|  55|                 1|   M|  Relacionado|          Casa|  Leve|           NULL|                NULL|Recuperado|     6/3/2020 0:00:00|        NULL|11/3/2020 0:00:00| 26/3/2020 0:00:00|              PCR|                 6|               NULL|     false|\n",
            "|11/3/2020 0:00:00|      5|  9/3/2020 0:00:00|                           5|          ANTIOQUIA|                     5001|        MEDELLIN|  25|                 1|   M|  Relacionado|          Casa|  Leve|           NULL|                NULL|Recuperado|     8/3/2020 0:00:00|        NULL|11/3/2020 0:00:00| 23/3/2020 0:00:00|              PCR|                 6|               NULL|     false|\n",
            "|11/3/2020 0:00:00|      6| 10/3/2020 0:00:00|                           5|          ANTIOQUIA|                     5360|          ITAGUI|  27|                 1|   F|  Relacionado|          Casa|  Leve|           NULL|                NULL|Recuperado|     6/3/2020 0:00:00|        NULL|11/3/2020 0:00:00| 26/3/2020 0:00:00|              PCR|                 6|               NULL|     false|\n",
            "|11/3/2020 0:00:00|      7|  8/3/2020 0:00:00|                       13001|          CARTAGENA|                    13001|       CARTAGENA|  85|                 1|   F|    Importado|          Casa|  Leve|            840|ESTADOS UNIDOS DE...|Recuperado|     2/3/2020 0:00:00|        NULL|11/3/2020 0:00:00| 17/3/2020 0:00:00|              PCR|                 6|               NULL|     false|\n",
            "|11/3/2020 0:00:00|      8|  9/3/2020 0:00:00|                          11|             BOGOTA|                    11001|          BOGOTA|  22|                 1|   F|    Importado|          Casa|  Leve|            724|              ESPAÑA|Recuperado|     6/3/2020 0:00:00|        NULL|11/3/2020 0:00:00| 21/3/2020 0:00:00|              PCR|                 6|               NULL|      true|\n",
            "|11/3/2020 0:00:00|      9|  8/3/2020 0:00:00|                          11|             BOGOTA|                    11001|          BOGOTA|  28|                 1|   F|    Importado|          Casa|  Leve|            724|              ESPAÑA|Recuperado|     7/3/2020 0:00:00|        NULL|11/3/2020 0:00:00| 23/3/2020 0:00:00|              PCR|                 6|               NULL|      true|\n",
            "|12/3/2020 0:00:00|     10| 12/3/2020 0:00:00|                          11|             BOGOTA|                    11001|          BOGOTA|  36|                 1|   F|    Importado|          Casa|  Leve|            724|              ESPAÑA|Recuperado|     6/3/2020 0:00:00|        NULL|12/3/2020 0:00:00| 21/3/2020 0:00:00|              PCR|                 6|               NULL|      true|\n",
            "|12/3/2020 0:00:00|     11| 11/3/2020 0:00:00|                          11|             BOGOTA|                    11001|          BOGOTA|  42|                 1|   F|    Importado|          Casa|  Leve|            724|              ESPAÑA|Recuperado|     6/3/2020 0:00:00|        NULL|12/3/2020 0:00:00| 31/3/2020 0:00:00|              PCR|                 6|               NULL|      true|\n",
            "|12/3/2020 0:00:00|     12| 10/3/2020 0:00:00|                          41|              HUILA|                    41001|           NEIVA|  74|                 1|   F|    Importado|          Casa|  Leve|            380|              ITALIA|Recuperado|     6/3/2020 0:00:00|        NULL|12/3/2020 0:00:00|  9/4/2020 0:00:00|              PCR|                 6|               NULL|     false|\n",
            "|12/3/2020 0:00:00|     13| 10/3/2020 0:00:00|                          41|              HUILA|                    41001|           NEIVA|  68|                 1|   F|  Relacionado|          Casa|  Leve|           NULL|                NULL|Recuperado|     6/3/2020 0:00:00|        NULL|12/3/2020 0:00:00| 30/3/2020 0:00:00|              PCR|                 6|               NULL|     false|\n",
            "|13/3/2020 0:00:00|     14| 10/3/2020 0:00:00|                          76|              VALLE|                    76520|         PALMIRA|  48|                 1|   M|    Importado|          Casa|  Leve|            724|              ESPAÑA|Recuperado|     7/3/2020 0:00:00|        NULL|13/3/2020 0:00:00| 21/3/2020 0:00:00|              PCR|                 5|               NULL|      true|\n",
            "|13/3/2020 0:00:00|     15| 13/3/2020 0:00:00|                          50|               META|                    50001|   VILLAVICENCIO|  30|                 1|   F|    Importado|          Casa|  Leve|            724|              ESPAÑA|Recuperado|     9/3/2020 0:00:00|        NULL|13/3/2020 0:00:00| 23/3/2020 0:00:00|              PCR|                 6|               NULL|      true|\n",
            "|13/3/2020 0:00:00|     16| 11/3/2020 0:00:00|                          11|             BOGOTA|                    11001|          BOGOTA|  61|                 1|   F|    Importado|          Casa|  Leve|            380|              ITALIA|Recuperado|     8/3/2020 0:00:00|        NULL|13/3/2020 0:00:00| 23/3/2020 0:00:00|              PCR|                 5|               NULL|     false|\n",
            "|14/3/2020 0:00:00|     17| 11/3/2020 0:00:00|                          11|             BOGOTA|                    11001|          BOGOTA|  73|                 1|   F|    Importado|          Casa|  Leve|            724|              ESPAÑA|Recuperado|    28/2/2020 0:00:00|        NULL|14/3/2020 0:00:00| 14/3/2020 0:00:00|              PCR|                 6|               NULL|      true|\n",
            "|14/3/2020 0:00:00|     18| 11/3/2020 0:00:00|                          11|             BOGOTA|                    11001|          BOGOTA|  54|                 1|   M|    Importado|          Casa|  Leve|            724|              ESPAÑA|Recuperado|     7/3/2020 0:00:00|        NULL|14/3/2020 0:00:00|  7/4/2020 0:00:00|           Tiempo|                 6|               NULL|      true|\n",
            "|14/3/2020 0:00:00|     19| 12/3/2020 0:00:00|                          11|             BOGOTA|                    11001|          BOGOTA|  54|                 1|   F|  Relacionado|          Casa|  Leve|           NULL|                NULL|Recuperado|     9/3/2020 0:00:00|        NULL|14/3/2020 0:00:00| 24/3/2020 0:00:00|              PCR|                 6|               NULL|     false|\n",
            "|14/3/2020 0:00:00|     20| 11/3/2020 0:00:00|                           5|          ANTIOQUIA|                     5001|        MEDELLIN|  26|                 1|   F|  Relacionado|          Casa|  Leve|           NULL|                NULL|Recuperado|     9/3/2020 0:00:00|        NULL|14/3/2020 0:00:00| 24/3/2020 0:00:00|              PCR|                 6|               NULL|     false|\n",
            "+-----------------+-------+------------------+----------------------------+-------------------+-------------------------+----------------+----+------------------+----+-------------+--------------+------+---------------+--------------------+----------+---------------------+------------+-----------------+------------------+-----------------+------------------+-------------------+----------+\n",
            "only showing top 20 rows\n",
            "\n"
          ]
        }
      ],
      "source": [
        "df = df.withColumn(\"es_español\", when(df[\"nombre_pais\"] == \"ESPAÑA\", True).otherwise(False))\n",
        "df.show()"
      ]
    },
    {
      "cell_type": "code",
      "execution_count": null,
      "metadata": {
        "colab": {
          "base_uri": "https://localhost:8080/"
        },
        "id": "emIt8SKBSJyk",
        "outputId": "13d6fd94-ed12-48a0-e05a-88f5c4dd3770"
      },
      "outputs": [
        {
          "name": "stdout",
          "output_type": "stream",
          "text": [
            "+-----------------+-------+------------------+----------------------------+-------------------+-------------------------+----------------+----+------------------+----+-------------+--------------+------+---------------+--------------------+----------+---------------------+------------+-----------------+------------------+-----------------+------------------+-------------------+--------------+-------------+\n",
            "|fecha_reporte_web|id_caso|fecha_notificacion|codigo_divipola_departamento|nombre_departamento|codigo_divipola_municipio|nombre_municipio|edad|unidad_medida_edad|sexo|tipo_contagio|ubicacion_caso|estado|codigo_iso_pais|         nombre_pais|recuperado|fecha_inicio_sintomas|fecha_muerte|fecha_diagnostico|fecha_recuperacion|tipo_recuperacion|pertenencia_etnica|nombre_grupo_etnico|categoria_edad|mayor_de_edad|\n",
            "+-----------------+-------+------------------+----------------------------+-------------------+-------------------------+----------------+----+------------------+----+-------------+--------------+------+---------------+--------------------+----------+---------------------+------------+-----------------+------------------+-----------------+------------------+-------------------+--------------+-------------+\n",
            "| 6/3/2020 0:00:00|      1|  2/3/2020 0:00:00|                          11|             BOGOTA|                    11001|          BOGOTA|  19|                 1|   F|    Importado|          Casa|  Leve|            380|              ITALIA|Recuperado|    27/2/2020 0:00:00|        NULL| 6/3/2020 0:00:00| 13/3/2020 0:00:00|              PCR|                 6|               NULL|        Adulto|           Sí|\n",
            "| 9/3/2020 0:00:00|      2|  6/3/2020 0:00:00|                          76|              VALLE|                    76111|            BUGA|  34|                 1|   M|    Importado|          Casa|  Leve|            724|              ESPAÑA|Recuperado|     4/3/2020 0:00:00|        NULL| 9/3/2020 0:00:00| 19/3/2020 0:00:00|              PCR|                 5|               NULL|        Adulto|           Sí|\n",
            "| 9/3/2020 0:00:00|      3|  7/3/2020 0:00:00|                           5|          ANTIOQUIA|                     5001|        MEDELLIN|  50|                 1|   F|    Importado|          Casa|  Leve|            724|              ESPAÑA|Recuperado|    29/2/2020 0:00:00|        NULL| 9/3/2020 0:00:00| 15/3/2020 0:00:00|              PCR|                 6|               NULL|        Adulto|           Sí|\n",
            "|11/3/2020 0:00:00|      4|  9/3/2020 0:00:00|                           5|          ANTIOQUIA|                     5001|        MEDELLIN|  55|                 1|   M|  Relacionado|          Casa|  Leve|           NULL|                NULL|Recuperado|     6/3/2020 0:00:00|        NULL|11/3/2020 0:00:00| 26/3/2020 0:00:00|              PCR|                 6|               NULL|        Adulto|           Sí|\n",
            "|11/3/2020 0:00:00|      5|  9/3/2020 0:00:00|                           5|          ANTIOQUIA|                     5001|        MEDELLIN|  25|                 1|   M|  Relacionado|          Casa|  Leve|           NULL|                NULL|Recuperado|     8/3/2020 0:00:00|        NULL|11/3/2020 0:00:00| 23/3/2020 0:00:00|              PCR|                 6|               NULL|        Adulto|           Sí|\n",
            "|11/3/2020 0:00:00|      6| 10/3/2020 0:00:00|                           5|          ANTIOQUIA|                     5360|          ITAGUI|  27|                 1|   F|  Relacionado|          Casa|  Leve|           NULL|                NULL|Recuperado|     6/3/2020 0:00:00|        NULL|11/3/2020 0:00:00| 26/3/2020 0:00:00|              PCR|                 6|               NULL|        Adulto|           Sí|\n",
            "|11/3/2020 0:00:00|      7|  8/3/2020 0:00:00|                       13001|          CARTAGENA|                    13001|       CARTAGENA|  85|                 1|   F|    Importado|          Casa|  Leve|            840|ESTADOS UNIDOS DE...|Recuperado|     2/3/2020 0:00:00|        NULL|11/3/2020 0:00:00| 17/3/2020 0:00:00|              PCR|                 6|               NULL|  Adulto Mayor|           Sí|\n",
            "|11/3/2020 0:00:00|      8|  9/3/2020 0:00:00|                          11|             BOGOTA|                    11001|          BOGOTA|  22|                 1|   F|    Importado|          Casa|  Leve|            724|              ESPAÑA|Recuperado|     6/3/2020 0:00:00|        NULL|11/3/2020 0:00:00| 21/3/2020 0:00:00|              PCR|                 6|               NULL|        Adulto|           Sí|\n",
            "|11/3/2020 0:00:00|      9|  8/3/2020 0:00:00|                          11|             BOGOTA|                    11001|          BOGOTA|  28|                 1|   F|    Importado|          Casa|  Leve|            724|              ESPAÑA|Recuperado|     7/3/2020 0:00:00|        NULL|11/3/2020 0:00:00| 23/3/2020 0:00:00|              PCR|                 6|               NULL|        Adulto|           Sí|\n",
            "|12/3/2020 0:00:00|     10| 12/3/2020 0:00:00|                          11|             BOGOTA|                    11001|          BOGOTA|  36|                 1|   F|    Importado|          Casa|  Leve|            724|              ESPAÑA|Recuperado|     6/3/2020 0:00:00|        NULL|12/3/2020 0:00:00| 21/3/2020 0:00:00|              PCR|                 6|               NULL|        Adulto|           Sí|\n",
            "|12/3/2020 0:00:00|     11| 11/3/2020 0:00:00|                          11|             BOGOTA|                    11001|          BOGOTA|  42|                 1|   F|    Importado|          Casa|  Leve|            724|              ESPAÑA|Recuperado|     6/3/2020 0:00:00|        NULL|12/3/2020 0:00:00| 31/3/2020 0:00:00|              PCR|                 6|               NULL|        Adulto|           Sí|\n",
            "|12/3/2020 0:00:00|     12| 10/3/2020 0:00:00|                          41|              HUILA|                    41001|           NEIVA|  74|                 1|   F|    Importado|          Casa|  Leve|            380|              ITALIA|Recuperado|     6/3/2020 0:00:00|        NULL|12/3/2020 0:00:00|  9/4/2020 0:00:00|              PCR|                 6|               NULL|  Adulto Mayor|           Sí|\n",
            "|12/3/2020 0:00:00|     13| 10/3/2020 0:00:00|                          41|              HUILA|                    41001|           NEIVA|  68|                 1|   F|  Relacionado|          Casa|  Leve|           NULL|                NULL|Recuperado|     6/3/2020 0:00:00|        NULL|12/3/2020 0:00:00| 30/3/2020 0:00:00|              PCR|                 6|               NULL|  Adulto Mayor|           Sí|\n",
            "|13/3/2020 0:00:00|     14| 10/3/2020 0:00:00|                          76|              VALLE|                    76520|         PALMIRA|  48|                 1|   M|    Importado|          Casa|  Leve|            724|              ESPAÑA|Recuperado|     7/3/2020 0:00:00|        NULL|13/3/2020 0:00:00| 21/3/2020 0:00:00|              PCR|                 5|               NULL|        Adulto|           Sí|\n",
            "|13/3/2020 0:00:00|     15| 13/3/2020 0:00:00|                          50|               META|                    50001|   VILLAVICENCIO|  30|                 1|   F|    Importado|          Casa|  Leve|            724|              ESPAÑA|Recuperado|     9/3/2020 0:00:00|        NULL|13/3/2020 0:00:00| 23/3/2020 0:00:00|              PCR|                 6|               NULL|        Adulto|           Sí|\n",
            "|13/3/2020 0:00:00|     16| 11/3/2020 0:00:00|                          11|             BOGOTA|                    11001|          BOGOTA|  61|                 1|   F|    Importado|          Casa|  Leve|            380|              ITALIA|Recuperado|     8/3/2020 0:00:00|        NULL|13/3/2020 0:00:00| 23/3/2020 0:00:00|              PCR|                 5|               NULL|  Adulto Mayor|           Sí|\n",
            "|14/3/2020 0:00:00|     17| 11/3/2020 0:00:00|                          11|             BOGOTA|                    11001|          BOGOTA|  73|                 1|   F|    Importado|          Casa|  Leve|            724|              ESPAÑA|Recuperado|    28/2/2020 0:00:00|        NULL|14/3/2020 0:00:00| 14/3/2020 0:00:00|              PCR|                 6|               NULL|  Adulto Mayor|           Sí|\n",
            "|14/3/2020 0:00:00|     18| 11/3/2020 0:00:00|                          11|             BOGOTA|                    11001|          BOGOTA|  54|                 1|   M|    Importado|          Casa|  Leve|            724|              ESPAÑA|Recuperado|     7/3/2020 0:00:00|        NULL|14/3/2020 0:00:00|  7/4/2020 0:00:00|           Tiempo|                 6|               NULL|        Adulto|           Sí|\n",
            "|14/3/2020 0:00:00|     19| 12/3/2020 0:00:00|                          11|             BOGOTA|                    11001|          BOGOTA|  54|                 1|   F|  Relacionado|          Casa|  Leve|           NULL|                NULL|Recuperado|     9/3/2020 0:00:00|        NULL|14/3/2020 0:00:00| 24/3/2020 0:00:00|              PCR|                 6|               NULL|        Adulto|           Sí|\n",
            "|14/3/2020 0:00:00|     20| 11/3/2020 0:00:00|                           5|          ANTIOQUIA|                     5001|        MEDELLIN|  26|                 1|   F|  Relacionado|          Casa|  Leve|           NULL|                NULL|Recuperado|     9/3/2020 0:00:00|        NULL|14/3/2020 0:00:00| 24/3/2020 0:00:00|              PCR|                 6|               NULL|        Adulto|           Sí|\n",
            "+-----------------+-------+------------------+----------------------------+-------------------+-------------------------+----------------+----+------------------+----+-------------+--------------+------+---------------+--------------------+----------+---------------------+------------+-----------------+------------------+-----------------+------------------+-------------------+--------------+-------------+\n",
            "only showing top 20 rows\n",
            "\n"
          ]
        }
      ],
      "source": [
        "# Delete Column\n",
        "df = df.drop(\"es_español\")\n",
        "df.show()"
      ]
    },
    {
      "cell_type": "code",
      "execution_count": null,
      "metadata": {
        "colab": {
          "base_uri": "https://localhost:8080/"
        },
        "id": "Hcgri9FHlymA",
        "outputId": "bac3003f-3006-4bf8-88ed-b38c242bbb3f"
      },
      "outputs": [
        {
          "name": "stdout",
          "output_type": "stream",
          "text": [
            "+-----------------+-------+------------------+----------------------------+-------------------+-------------------------+----------------+----+------------------+----+-------------+--------------+------+---------------+--------------------+----------+---------------------+------------+-----------------+------------------+-----------------+------------------+-------------------+--------------+-------------+\n",
            "|fecha_reporte_web|id_caso|fecha_notificacion|codigo_divipola_departamento|nombre_departamento|codigo_divipola_municipio|nombre_municipio|edad|unidad_medida_edad|sexo|tipo_contagio|ubicacion_caso|estado|codigo_iso_pais|         nombre_pais|recuperado|fecha_inicio_sintomas|fecha_muerte|fecha_diagnostico|fecha_recuperacion|tipo_recuperacion|pertenencia_etnica|nombre_grupo_etnico|categoria_edad|mayor_de_edad|\n",
            "+-----------------+-------+------------------+----------------------------+-------------------+-------------------------+----------------+----+------------------+----+-------------+--------------+------+---------------+--------------------+----------+---------------------+------------+-----------------+------------------+-----------------+------------------+-------------------+--------------+-------------+\n",
            "| 9/3/2020 0:00:00|      3|  7/3/2020 0:00:00|                           5|          ANTIOQUIA|                     5001|        MEDELLIN|  50|                 1|   F|    Importado|          Casa|  Leve|            724|              ESPAÑA|Recuperado|    29/2/2020 0:00:00|        NULL| 9/3/2020 0:00:00| 15/3/2020 0:00:00|              PCR|                 6|               NULL|        Adulto|           Sí|\n",
            "|11/3/2020 0:00:00|      4|  9/3/2020 0:00:00|                           5|          ANTIOQUIA|                     5001|        MEDELLIN|  55|                 1|   M|  Relacionado|          Casa|  Leve|           NULL|                NULL|Recuperado|     6/3/2020 0:00:00|        NULL|11/3/2020 0:00:00| 26/3/2020 0:00:00|              PCR|                 6|               NULL|        Adulto|           Sí|\n",
            "|11/3/2020 0:00:00|      5|  9/3/2020 0:00:00|                           5|          ANTIOQUIA|                     5001|        MEDELLIN|  25|                 1|   M|  Relacionado|          Casa|  Leve|           NULL|                NULL|Recuperado|     8/3/2020 0:00:00|        NULL|11/3/2020 0:00:00| 23/3/2020 0:00:00|              PCR|                 6|               NULL|        Adulto|           Sí|\n",
            "|11/3/2020 0:00:00|      6| 10/3/2020 0:00:00|                           5|          ANTIOQUIA|                     5360|          ITAGUI|  27|                 1|   F|  Relacionado|          Casa|  Leve|           NULL|                NULL|Recuperado|     6/3/2020 0:00:00|        NULL|11/3/2020 0:00:00| 26/3/2020 0:00:00|              PCR|                 6|               NULL|        Adulto|           Sí|\n",
            "|14/3/2020 0:00:00|     20| 11/3/2020 0:00:00|                           5|          ANTIOQUIA|                     5001|        MEDELLIN|  26|                 1|   F|  Relacionado|          Casa|  Leve|           NULL|                NULL|Recuperado|     9/3/2020 0:00:00|        NULL|14/3/2020 0:00:00| 24/3/2020 0:00:00|              PCR|                 6|               NULL|        Adulto|           Sí|\n",
            "|14/3/2020 0:00:00|     21| 11/3/2020 0:00:00|                           5|          ANTIOQUIA|                     5001|        MEDELLIN|  28|                 1|   M|  Relacionado|          Casa|  Leve|           NULL|                NULL|Recuperado|    10/3/2020 0:00:00|        NULL|14/3/2020 0:00:00| 10/4/2020 0:00:00|              PCR|                 6|               NULL|        Adulto|           Sí|\n",
            "|14/3/2020 0:00:00|     22| 12/3/2020 0:00:00|                           5|          ANTIOQUIA|                     5615|        RIONEGRO|  36|                 1|   M|    Importado|          Casa|  Leve|            840|ESTADOS UNIDOS DE...|Recuperado|     9/3/2020 0:00:00|        NULL|14/3/2020 0:00:00| 24/3/2020 0:00:00|              PCR|                 6|               NULL|        Adulto|           Sí|\n",
            "|15/3/2020 0:00:00|     32| 11/3/2020 0:00:00|                           5|          ANTIOQUIA|                     5001|        MEDELLIN|  55|                 1|   M|    Importado|          Casa|  Leve|            724|              ESPAÑA|Recuperado|    10/3/2020 0:00:00|        NULL|15/3/2020 0:00:00| 25/3/2020 0:00:00|              PCR|                 6|               NULL|        Adulto|           Sí|\n",
            "|19/3/2020 0:00:00|    106| 19/3/2020 0:00:00|                           5|          ANTIOQUIA|                     5001|        MEDELLIN|  44|                 1|   M|    Importado|          Casa|  Leve|            724|              ESPAÑA|Recuperado|    13/3/2020 0:00:00|        NULL|19/3/2020 0:00:00| 28/3/2020 0:00:00|              PCR|                 6|               NULL|        Adulto|           Sí|\n",
            "|19/3/2020 0:00:00|    107| 12/3/2020 0:00:00|                           5|          ANTIOQUIA|                     5001|        MEDELLIN|  56|                 1|   M|    Importado|          Casa|  Leve|            724|              ESPAÑA|Recuperado|    10/3/2020 0:00:00|        NULL|19/3/2020 0:00:00| 30/3/2020 0:00:00|              PCR|                 6|               NULL|        Adulto|           Sí|\n",
            "|19/3/2020 0:00:00|    108| 17/3/2020 0:00:00|                           5|          ANTIOQUIA|                     5001|        MEDELLIN|  57|                 1|   F|    Importado|          Casa|  Leve|            724|              ESPAÑA|Recuperado|    14/3/2020 0:00:00|        NULL|19/3/2020 0:00:00| 28/3/2020 0:00:00|              PCR|                 6|               NULL|        Adulto|           Sí|\n",
            "|20/3/2020 0:00:00|    131| 15/3/2020 0:00:00|                           5|          ANTIOQUIA|                     5001|        MEDELLIN|  22|                 1|   F|    Importado|          Casa|  Leve|            724|              ESPAÑA|Recuperado|    13/3/2020 0:00:00|        NULL|20/3/2020 0:00:00| 28/3/2020 0:00:00|              PCR|                 6|               NULL|        Adulto|           Sí|\n",
            "|20/3/2020 0:00:00|    133| 16/3/2020 0:00:00|                           5|          ANTIOQUIA|                     5615|        RIONEGRO|  51|                 1|   M|  Relacionado|          Casa|  Leve|           NULL|                NULL|Recuperado|    10/3/2020 0:00:00|        NULL|20/3/2020 0:00:00| 25/3/2020 0:00:00|              PCR|                 6|               NULL|        Adulto|           Sí|\n",
            "|20/3/2020 0:00:00|    134| 17/3/2020 0:00:00|                           5|          ANTIOQUIA|                     5380|     LA ESTRELLA|  28|                 1|   M|  Relacionado|          Casa|  Leve|           NULL|                NULL|Recuperado|                 NULL|        NULL|20/3/2020 0:00:00|  3/4/2020 0:00:00|              PCR|                 6|               NULL|        Adulto|           Sí|\n",
            "|20/3/2020 0:00:00|    135| 17/3/2020 0:00:00|                           5|          ANTIOQUIA|                     5001|        MEDELLIN|  44|                 1|   F|    Importado|          Casa|  Leve|            276|            ALEMANIA|Recuperado|    16/3/2020 0:00:00|        NULL|20/3/2020 0:00:00|  1/4/2020 0:00:00|              PCR|                 6|               NULL|        Adulto|           Sí|\n",
            "|20/3/2020 0:00:00|    136| 17/3/2020 0:00:00|                           5|          ANTIOQUIA|                     5001|        MEDELLIN|  37|                 1|   M|  Relacionado|          Casa|  Leve|           NULL|                NULL|Recuperado|    13/3/2020 0:00:00|        NULL|20/3/2020 0:00:00| 13/4/2020 0:00:00|              PCR|                 6|               NULL|        Adulto|           Sí|\n",
            "|20/3/2020 0:00:00|    137| 17/3/2020 0:00:00|                           5|          ANTIOQUIA|                     5266|        ENVIGADO|  54|                 1|   M|    Importado|          Casa|  Leve|            724|              ESPAÑA|Recuperado|                 NULL|        NULL|20/3/2020 0:00:00|  3/4/2020 0:00:00|              PCR|                 6|               NULL|        Adulto|           Sí|\n",
            "|20/3/2020 0:00:00|    141| 17/3/2020 0:00:00|                           5|          ANTIOQUIA|                     5001|        MEDELLIN|  62|                 1|   F|    Importado|          Casa|  Leve|            191|             CROACIA|Recuperado|    10/3/2020 0:00:00|        NULL|20/3/2020 0:00:00| 25/3/2020 0:00:00|              PCR|                 6|               NULL|  Adulto Mayor|           Sí|\n",
            "|20/3/2020 0:00:00|    142| 20/3/2020 0:00:00|                           5|          ANTIOQUIA|                     5001|        MEDELLIN|  35|                 1|   F|    Importado|          Casa|  Leve|            591|              PANAMA|Recuperado|    14/3/2020 0:00:00|        NULL|20/3/2020 0:00:00| 29/3/2020 0:00:00|              PCR|                 6|               NULL|        Adulto|           Sí|\n",
            "|20/3/2020 0:00:00|    143| 14/3/2020 0:00:00|                           5|          ANTIOQUIA|                     5266|        ENVIGADO|  46|                 1|   M|    Importado|          Casa|  Leve|            724|              ESPAÑA|Recuperado|    11/3/2020 0:00:00|        NULL|20/3/2020 0:00:00|  1/8/2020 0:00:00|              PCR|                 6|               NULL|        Adulto|           Sí|\n",
            "+-----------------+-------+------------------+----------------------------+-------------------+-------------------------+----------------+----+------------------+----+-------------+--------------+------+---------------+--------------------+----------+---------------------+------------+-----------------+------------------+-----------------+------------------+-------------------+--------------+-------------+\n",
            "only showing top 20 rows\n",
            "\n"
          ]
        }
      ],
      "source": [
        "df.filter(df['nombre_departamento'] =='ANTIOQUIA').show()"
      ]
    },
    {
      "cell_type": "code",
      "execution_count": null,
      "metadata": {
        "colab": {
          "base_uri": "https://localhost:8080/"
        },
        "id": "Z6mXiOrdlymA",
        "outputId": "1fab0b78-4e87-40e7-cd6c-2d4d3c8b0d89"
      },
      "outputs": [
        {
          "name": "stdout",
          "output_type": "stream",
          "text": [
            "+-------------+------+-----------------+\n",
            "|tipo_contagio|estado|tipo_recuperacion|\n",
            "+-------------+------+-----------------+\n",
            "|    Importado|  Leve|              PCR|\n",
            "|  Relacionado|  Leve|              PCR|\n",
            "|  Relacionado|  Leve|              PCR|\n",
            "|  Relacionado|  Leve|              PCR|\n",
            "|  Relacionado|  Leve|              PCR|\n",
            "|  Relacionado|  Leve|              PCR|\n",
            "|    Importado|  Leve|              PCR|\n",
            "|    Importado|  Leve|              PCR|\n",
            "|    Importado|  Leve|              PCR|\n",
            "|    Importado|  Leve|              PCR|\n",
            "+-------------+------+-----------------+\n",
            "only showing top 10 rows\n",
            "\n"
          ]
        }
      ],
      "source": [
        "#filter the records\n",
        "df.filter(df['nombre_departamento'] =='ANTIOQUIA').select('tipo_contagio', 'estado', 'tipo_recuperacion').show(10)"
      ]
    },
    {
      "cell_type": "code",
      "execution_count": null,
      "metadata": {
        "colab": {
          "base_uri": "https://localhost:8080/"
        },
        "id": "5AeycScTlymA",
        "outputId": "3df34abc-8e87-4afa-919b-f40fa9282b84"
      },
      "outputs": [
        {
          "name": "stdout",
          "output_type": "stream",
          "text": [
            "+-----------------+-------+------------------+----------------------------+-------------------+-------------------------+----------------+----+------------------+----+-------------+--------------+------+---------------+--------------------+----------+---------------------+------------+-----------------+------------------+-----------------+------------------+-------------------+--------------+-------------+\n",
            "|fecha_reporte_web|id_caso|fecha_notificacion|codigo_divipola_departamento|nombre_departamento|codigo_divipola_municipio|nombre_municipio|edad|unidad_medida_edad|sexo|tipo_contagio|ubicacion_caso|estado|codigo_iso_pais|         nombre_pais|recuperado|fecha_inicio_sintomas|fecha_muerte|fecha_diagnostico|fecha_recuperacion|tipo_recuperacion|pertenencia_etnica|nombre_grupo_etnico|categoria_edad|mayor_de_edad|\n",
            "+-----------------+-------+------------------+----------------------------+-------------------+-------------------------+----------------+----+------------------+----+-------------+--------------+------+---------------+--------------------+----------+---------------------+------------+-----------------+------------------+-----------------+------------------+-------------------+--------------+-------------+\n",
            "| 9/3/2020 0:00:00|      3|  7/3/2020 0:00:00|                           5|          ANTIOQUIA|                     5001|        MEDELLIN|  50|                 1|   F|    Importado|          Casa|  Leve|            724|              ESPAÑA|Recuperado|    29/2/2020 0:00:00|        NULL| 9/3/2020 0:00:00| 15/3/2020 0:00:00|              PCR|                 6|               NULL|        Adulto|           Sí|\n",
            "|11/3/2020 0:00:00|      4|  9/3/2020 0:00:00|                           5|          ANTIOQUIA|                     5001|        MEDELLIN|  55|                 1|   M|  Relacionado|          Casa|  Leve|           NULL|                NULL|Recuperado|     6/3/2020 0:00:00|        NULL|11/3/2020 0:00:00| 26/3/2020 0:00:00|              PCR|                 6|               NULL|        Adulto|           Sí|\n",
            "|15/3/2020 0:00:00|     32| 11/3/2020 0:00:00|                           5|          ANTIOQUIA|                     5001|        MEDELLIN|  55|                 1|   M|    Importado|          Casa|  Leve|            724|              ESPAÑA|Recuperado|    10/3/2020 0:00:00|        NULL|15/3/2020 0:00:00| 25/3/2020 0:00:00|              PCR|                 6|               NULL|        Adulto|           Sí|\n",
            "|19/3/2020 0:00:00|    106| 19/3/2020 0:00:00|                           5|          ANTIOQUIA|                     5001|        MEDELLIN|  44|                 1|   M|    Importado|          Casa|  Leve|            724|              ESPAÑA|Recuperado|    13/3/2020 0:00:00|        NULL|19/3/2020 0:00:00| 28/3/2020 0:00:00|              PCR|                 6|               NULL|        Adulto|           Sí|\n",
            "|19/3/2020 0:00:00|    107| 12/3/2020 0:00:00|                           5|          ANTIOQUIA|                     5001|        MEDELLIN|  56|                 1|   M|    Importado|          Casa|  Leve|            724|              ESPAÑA|Recuperado|    10/3/2020 0:00:00|        NULL|19/3/2020 0:00:00| 30/3/2020 0:00:00|              PCR|                 6|               NULL|        Adulto|           Sí|\n",
            "|19/3/2020 0:00:00|    108| 17/3/2020 0:00:00|                           5|          ANTIOQUIA|                     5001|        MEDELLIN|  57|                 1|   F|    Importado|          Casa|  Leve|            724|              ESPAÑA|Recuperado|    14/3/2020 0:00:00|        NULL|19/3/2020 0:00:00| 28/3/2020 0:00:00|              PCR|                 6|               NULL|        Adulto|           Sí|\n",
            "|20/3/2020 0:00:00|    133| 16/3/2020 0:00:00|                           5|          ANTIOQUIA|                     5615|        RIONEGRO|  51|                 1|   M|  Relacionado|          Casa|  Leve|           NULL|                NULL|Recuperado|    10/3/2020 0:00:00|        NULL|20/3/2020 0:00:00| 25/3/2020 0:00:00|              PCR|                 6|               NULL|        Adulto|           Sí|\n",
            "|20/3/2020 0:00:00|    135| 17/3/2020 0:00:00|                           5|          ANTIOQUIA|                     5001|        MEDELLIN|  44|                 1|   F|    Importado|          Casa|  Leve|            276|            ALEMANIA|Recuperado|    16/3/2020 0:00:00|        NULL|20/3/2020 0:00:00|  1/4/2020 0:00:00|              PCR|                 6|               NULL|        Adulto|           Sí|\n",
            "|20/3/2020 0:00:00|    137| 17/3/2020 0:00:00|                           5|          ANTIOQUIA|                     5266|        ENVIGADO|  54|                 1|   M|    Importado|          Casa|  Leve|            724|              ESPAÑA|Recuperado|                 NULL|        NULL|20/3/2020 0:00:00|  3/4/2020 0:00:00|              PCR|                 6|               NULL|        Adulto|           Sí|\n",
            "|20/3/2020 0:00:00|    141| 17/3/2020 0:00:00|                           5|          ANTIOQUIA|                     5001|        MEDELLIN|  62|                 1|   F|    Importado|          Casa|  Leve|            191|             CROACIA|Recuperado|    10/3/2020 0:00:00|        NULL|20/3/2020 0:00:00| 25/3/2020 0:00:00|              PCR|                 6|               NULL|  Adulto Mayor|           Sí|\n",
            "|20/3/2020 0:00:00|    143| 14/3/2020 0:00:00|                           5|          ANTIOQUIA|                     5266|        ENVIGADO|  46|                 1|   M|    Importado|          Casa|  Leve|            724|              ESPAÑA|Recuperado|    11/3/2020 0:00:00|        NULL|20/3/2020 0:00:00|  1/8/2020 0:00:00|              PCR|                 6|               NULL|        Adulto|           Sí|\n",
            "|20/3/2020 0:00:00|    144| 20/3/2020 0:00:00|                           5|          ANTIOQUIA|                     5001|        MEDELLIN|  41|                 1|   M|    Importado|          Casa|  Leve|            591|              PANAMA|Recuperado|    14/3/2020 0:00:00|        NULL|20/3/2020 0:00:00|  5/4/2020 0:00:00|              PCR|                 6|               NULL|        Adulto|           Sí|\n",
            "|22/3/2020 0:00:00|    236| 19/3/2020 0:00:00|                           5|          ANTIOQUIA|                     5321|         GUATAPE|  52|                 1|   M|  Relacionado|          Casa|  Leve|           NULL|                NULL|Recuperado|    10/3/2020 0:00:00|        NULL|22/3/2020 0:00:00| 25/3/2020 0:00:00|              PCR|                 6|               NULL|        Adulto|           Sí|\n",
            "|22/3/2020 0:00:00|    238| 16/3/2020 0:00:00|                           5|          ANTIOQUIA|                     5001|        MEDELLIN|  61|                 1|   F|    Importado|          Casa|  Leve|            724|              ESPAÑA|Recuperado|    14/3/2020 0:00:00|        NULL|22/3/2020 0:00:00| 11/4/2020 0:00:00|           Tiempo|                 6|               NULL|  Adulto Mayor|           Sí|\n",
            "|22/3/2020 0:00:00|    239| 16/3/2020 0:00:00|                           5|          ANTIOQUIA|                     5615|        RIONEGRO|  41|                 1|   M|    Importado|          Casa|  Leve|            724|              ESPAÑA|Recuperado|    14/3/2020 0:00:00|        NULL|22/3/2020 0:00:00| 29/3/2020 0:00:00|              PCR|                 6|               NULL|        Adulto|           Sí|\n",
            "|22/3/2020 0:00:00|    240| 18/3/2020 0:00:00|                           5|          ANTIOQUIA|                     5088|           BELLO|  41|                 1|   M|    Importado|          Casa|  Leve|            724|              ESPAÑA|Recuperado|     9/3/2020 0:00:00|        NULL|22/3/2020 0:00:00| 25/4/2020 0:00:00|              PCR|                 6|               NULL|        Adulto|           Sí|\n",
            "|23/3/2020 0:00:00|    263| 21/3/2020 0:00:00|                           5|          ANTIOQUIA|                     5001|        MEDELLIN|  59|                 1|   M|    Importado|          Casa|  Leve|            724|              ESPAÑA|Recuperado|    16/3/2020 0:00:00|        NULL|23/3/2020 0:00:00| 30/3/2020 0:00:00|              PCR|                 6|               NULL|        Adulto|           Sí|\n",
            "|23/3/2020 0:00:00|    272| 18/3/2020 0:00:00|                           5|          ANTIOQUIA|                     5001|        MEDELLIN|  47|                 1|   F|    Importado|          Casa|  Leve|            724|              ESPAÑA|Recuperado|    14/3/2020 0:00:00|        NULL|23/3/2020 0:00:00| 29/3/2020 0:00:00|              PCR|                 6|               NULL|        Adulto|           Sí|\n",
            "|23/3/2020 0:00:00|    273| 19/3/2020 0:00:00|                           5|          ANTIOQUIA|                     5001|        MEDELLIN|  87|                 1|   M|    Importado|          Casa|  Leve|            591|              PANAMA|Recuperado|    11/3/2020 0:00:00|        NULL|23/3/2020 0:00:00| 19/4/2020 0:00:00|              PCR|                 6|               NULL|  Adulto Mayor|           Sí|\n",
            "|23/3/2020 0:00:00|    292| 19/3/2020 0:00:00|                           5|          ANTIOQUIA|                     5001|        MEDELLIN|  43|                 1|   F|    Importado|          Casa|  Leve|            840|ESTADOS UNIDOS DE...|Recuperado|    15/3/2020 0:00:00|        NULL|23/3/2020 0:00:00| 29/3/2020 0:00:00|              PCR|                 6|               NULL|        Adulto|           Sí|\n",
            "+-----------------+-------+------------------+----------------------------+-------------------+-------------------------+----------------+----+------------------+----+-------------+--------------+------+---------------+--------------------+----------+---------------------+------------+-----------------+------------------+-----------------+------------------+-------------------+--------------+-------------+\n",
            "only showing top 20 rows\n",
            "\n"
          ]
        }
      ],
      "source": [
        "df.filter((df['nombre_departamento'] =='ANTIOQUIA') & (df['edad'] > 40)).show()"
      ]
    },
    {
      "cell_type": "code",
      "execution_count": null,
      "metadata": {
        "colab": {
          "base_uri": "https://localhost:8080/"
        },
        "id": "wyV9ax0IlymA",
        "outputId": "da6f2811-4476-4363-9513-926ea6bf63a3"
      },
      "outputs": [
        {
          "name": "stdout",
          "output_type": "stream",
          "text": [
            "+---------------+-----+\n",
            "|codigo_iso_pais|count|\n",
            "+---------------+-----+\n",
            "|NULL           |99088|\n",
            "|724            |258  |\n",
            "|840            |212  |\n",
            "|76             |59   |\n",
            "|218            |59   |\n",
            "+---------------+-----+\n",
            "only showing top 5 rows\n",
            "\n"
          ]
        }
      ],
      "source": [
        "# Value counts\n",
        "df.groupBy('codigo_iso_pais').count().orderBy('count', ascending=False).show(5, False)"
      ]
    },
    {
      "cell_type": "code",
      "execution_count": null,
      "metadata": {
        "colab": {
          "base_uri": "https://localhost:8080/"
        },
        "id": "L1yz98DhlymB",
        "outputId": "edc48be3-6202-42a2-9e45-6b6d46cc12f9"
      },
      "outputs": [
        {
          "name": "stdout",
          "output_type": "stream",
          "text": [
            "+---------------+------------+---------------------------------+------------------------------+---------+-----------------------+--------------------+-----------------------+\n",
            "|codigo_iso_pais|sum(id_caso)|sum(codigo_divipola_departamento)|sum(codigo_divipola_municipio)|sum(edad)|sum(unidad_medida_edad)|sum(codigo_iso_pais)|sum(pertenencia_etnica)|\n",
            "+---------------+------------+---------------------------------+------------------------------+---------+-----------------------+--------------------+-----------------------+\n",
            "|858            |2425        |76                               |76113                         |24       |1                      |858                 |6                      |\n",
            "|530            |6262        |82                               |82045                         |326      |8                      |4240                |48                     |\n",
            "|756            |962         |76                               |76001                         |68       |1                      |756                 |6                      |\n",
            "|300            |1365        |209                              |209511                        |206      |4                      |1200                |24                     |\n",
            "|784            |620         |76                               |76520                         |45       |1                      |784                 |6                      |\n",
            "+---------------+------------+---------------------------------+------------------------------+---------+-----------------------+--------------------+-----------------------+\n",
            "only showing top 5 rows\n",
            "\n"
          ]
        }
      ],
      "source": [
        "df.groupBy('codigo_iso_pais').sum().show(5, False)"
      ]
    },
    {
      "cell_type": "code",
      "execution_count": null,
      "metadata": {
        "colab": {
          "base_uri": "https://localhost:8080/"
        },
        "id": "ukzq9Nu3lymB",
        "outputId": "ddd02518-c0fa-4527-e1f3-dbbcd342b5ae"
      },
      "outputs": [
        {
          "name": "stdout",
          "output_type": "stream",
          "text": [
            "+---------------+------------+---------------------------------+------------------------------+---------+-----------------------+--------------------+-----------------------+\n",
            "|codigo_iso_pais|max(id_caso)|max(codigo_divipola_departamento)|max(codigo_divipola_municipio)|max(edad)|max(unidad_medida_edad)|max(codigo_iso_pais)|max(pertenencia_etnica)|\n",
            "+---------------+------------+---------------------------------+------------------------------+---------+-----------------------+--------------------+-----------------------+\n",
            "|858            |2425        |76                               |76113                         |24       |1                      |858                 |6                      |\n",
            "|530            |1588        |11                               |11001                         |74       |1                      |530                 |6                      |\n",
            "|756            |962         |76                               |76001                         |68       |1                      |756                 |6                      |\n",
            "|300            |691         |66                               |66170                         |57       |1                      |300                 |6                      |\n",
            "|784            |620         |76                               |76520                         |45       |1                      |784                 |6                      |\n",
            "+---------------+------------+---------------------------------+------------------------------+---------+-----------------------+--------------------+-----------------------+\n",
            "only showing top 5 rows\n",
            "\n"
          ]
        }
      ],
      "source": [
        "# Value counts\n",
        "df.groupBy('codigo_iso_pais').max().show(5, False)"
      ]
    },
    {
      "cell_type": "code",
      "execution_count": null,
      "metadata": {
        "colab": {
          "base_uri": "https://localhost:8080/"
        },
        "id": "8jN1ZhOrlymB",
        "outputId": "2b55d4f7-ce81-4d0c-9ba9-8b7a819a2da0"
      },
      "outputs": [
        {
          "name": "stdout",
          "output_type": "stream",
          "text": [
            "+---------------+------------+---------------------------------+------------------------------+---------+-----------------------+--------------------+-----------------------+\n",
            "|codigo_iso_pais|min(id_caso)|min(codigo_divipola_departamento)|min(codigo_divipola_municipio)|min(edad)|min(unidad_medida_edad)|min(codigo_iso_pais)|min(pertenencia_etnica)|\n",
            "+---------------+------------+---------------------------------+------------------------------+---------+-----------------------+--------------------+-----------------------+\n",
            "|858            |2425        |76                               |76113                         |24       |1                      |858                 |6                      |\n",
            "|530            |262         |5                                |5038                          |28       |1                      |530                 |6                      |\n",
            "|756            |962         |76                               |76001                         |68       |1                      |756                 |6                      |\n",
            "|300            |170         |11                               |11001                         |45       |1                      |300                 |6                      |\n",
            "|784            |620         |76                               |76520                         |45       |1                      |784                 |6                      |\n",
            "+---------------+------------+---------------------------------+------------------------------+---------+-----------------------+--------------------+-----------------------+\n",
            "only showing top 5 rows\n",
            "\n"
          ]
        }
      ],
      "source": [
        "# Value counts\n",
        "df.groupBy('codigo_iso_pais').min().show(5, False)"
      ]
    },
    {
      "cell_type": "code",
      "execution_count": null,
      "metadata": {
        "colab": {
          "base_uri": "https://localhost:8080/"
        },
        "id": "49IW7UpFlymB",
        "outputId": "01b1ee15-18de-484d-f38d-0e901fd56053"
      },
      "outputs": [
        {
          "name": "stdout",
          "output_type": "stream",
          "text": [
            "+---------------+---------+\n",
            "|codigo_iso_pais|sum(edad)|\n",
            "+---------------+---------+\n",
            "|858            |24       |\n",
            "|530            |326      |\n",
            "|756            |68       |\n",
            "|300            |206      |\n",
            "|784            |45       |\n",
            "+---------------+---------+\n",
            "only showing top 5 rows\n",
            "\n"
          ]
        }
      ],
      "source": [
        "#Aggregation\n",
        "df.groupBy('codigo_iso_pais').agg({'edad': 'sum'}).show(5, False)"
      ]
    },
    {
      "cell_type": "code",
      "execution_count": null,
      "metadata": {
        "id": "3X9AddxCcXXe"
      },
      "outputs": [],
      "source": [
        "# Lambda\n",
        "mayor_de_edad_lambda = udf(lambda edad: \"Sí\" if edad >= 18 else \"No\", StringType())"
      ]
    },
    {
      "cell_type": "code",
      "execution_count": null,
      "metadata": {
        "id": "c4Ht-Pwec-TB"
      },
      "outputs": [],
      "source": [
        "df = df.withColumn(\"mayor_de_edad\", mayor_de_edad_lambda(df.edad))"
      ]
    },
    {
      "cell_type": "code",
      "execution_count": null,
      "metadata": {
        "colab": {
          "base_uri": "https://localhost:8080/"
        },
        "id": "ARqOMzwac2Lv",
        "outputId": "18555cbe-803a-4865-8da9-a3d684273607"
      },
      "outputs": [
        {
          "name": "stdout",
          "output_type": "stream",
          "text": [
            "+-----------------+-------+------------------+----------------------------+-------------------+-------------------------+----------------+----+------------------+----+-------------+--------------+------+---------------+--------------------+----------+---------------------+------------+-----------------+------------------+-----------------+------------------+-------------------+--------------+-------------+\n",
            "|fecha_reporte_web|id_caso|fecha_notificacion|codigo_divipola_departamento|nombre_departamento|codigo_divipola_municipio|nombre_municipio|edad|unidad_medida_edad|sexo|tipo_contagio|ubicacion_caso|estado|codigo_iso_pais|         nombre_pais|recuperado|fecha_inicio_sintomas|fecha_muerte|fecha_diagnostico|fecha_recuperacion|tipo_recuperacion|pertenencia_etnica|nombre_grupo_etnico|categoria_edad|mayor_de_edad|\n",
            "+-----------------+-------+------------------+----------------------------+-------------------+-------------------------+----------------+----+------------------+----+-------------+--------------+------+---------------+--------------------+----------+---------------------+------------+-----------------+------------------+-----------------+------------------+-------------------+--------------+-------------+\n",
            "| 6/3/2020 0:00:00|      1|  2/3/2020 0:00:00|                          11|             BOGOTA|                    11001|          BOGOTA|  19|                 1|   F|    Importado|          Casa|  Leve|            380|              ITALIA|Recuperado|    27/2/2020 0:00:00|        NULL| 6/3/2020 0:00:00| 13/3/2020 0:00:00|              PCR|                 6|               NULL|        Adulto|           Sí|\n",
            "| 9/3/2020 0:00:00|      2|  6/3/2020 0:00:00|                          76|              VALLE|                    76111|            BUGA|  34|                 1|   M|    Importado|          Casa|  Leve|            724|              ESPAÑA|Recuperado|     4/3/2020 0:00:00|        NULL| 9/3/2020 0:00:00| 19/3/2020 0:00:00|              PCR|                 5|               NULL|        Adulto|           Sí|\n",
            "| 9/3/2020 0:00:00|      3|  7/3/2020 0:00:00|                           5|          ANTIOQUIA|                     5001|        MEDELLIN|  50|                 1|   F|    Importado|          Casa|  Leve|            724|              ESPAÑA|Recuperado|    29/2/2020 0:00:00|        NULL| 9/3/2020 0:00:00| 15/3/2020 0:00:00|              PCR|                 6|               NULL|        Adulto|           Sí|\n",
            "|11/3/2020 0:00:00|      4|  9/3/2020 0:00:00|                           5|          ANTIOQUIA|                     5001|        MEDELLIN|  55|                 1|   M|  Relacionado|          Casa|  Leve|           NULL|                NULL|Recuperado|     6/3/2020 0:00:00|        NULL|11/3/2020 0:00:00| 26/3/2020 0:00:00|              PCR|                 6|               NULL|        Adulto|           Sí|\n",
            "|11/3/2020 0:00:00|      5|  9/3/2020 0:00:00|                           5|          ANTIOQUIA|                     5001|        MEDELLIN|  25|                 1|   M|  Relacionado|          Casa|  Leve|           NULL|                NULL|Recuperado|     8/3/2020 0:00:00|        NULL|11/3/2020 0:00:00| 23/3/2020 0:00:00|              PCR|                 6|               NULL|        Adulto|           Sí|\n",
            "|11/3/2020 0:00:00|      6| 10/3/2020 0:00:00|                           5|          ANTIOQUIA|                     5360|          ITAGUI|  27|                 1|   F|  Relacionado|          Casa|  Leve|           NULL|                NULL|Recuperado|     6/3/2020 0:00:00|        NULL|11/3/2020 0:00:00| 26/3/2020 0:00:00|              PCR|                 6|               NULL|        Adulto|           Sí|\n",
            "|11/3/2020 0:00:00|      7|  8/3/2020 0:00:00|                       13001|          CARTAGENA|                    13001|       CARTAGENA|  85|                 1|   F|    Importado|          Casa|  Leve|            840|ESTADOS UNIDOS DE...|Recuperado|     2/3/2020 0:00:00|        NULL|11/3/2020 0:00:00| 17/3/2020 0:00:00|              PCR|                 6|               NULL|  Adulto Mayor|           Sí|\n",
            "|11/3/2020 0:00:00|      8|  9/3/2020 0:00:00|                          11|             BOGOTA|                    11001|          BOGOTA|  22|                 1|   F|    Importado|          Casa|  Leve|            724|              ESPAÑA|Recuperado|     6/3/2020 0:00:00|        NULL|11/3/2020 0:00:00| 21/3/2020 0:00:00|              PCR|                 6|               NULL|        Adulto|           Sí|\n",
            "|11/3/2020 0:00:00|      9|  8/3/2020 0:00:00|                          11|             BOGOTA|                    11001|          BOGOTA|  28|                 1|   F|    Importado|          Casa|  Leve|            724|              ESPAÑA|Recuperado|     7/3/2020 0:00:00|        NULL|11/3/2020 0:00:00| 23/3/2020 0:00:00|              PCR|                 6|               NULL|        Adulto|           Sí|\n",
            "|12/3/2020 0:00:00|     10| 12/3/2020 0:00:00|                          11|             BOGOTA|                    11001|          BOGOTA|  36|                 1|   F|    Importado|          Casa|  Leve|            724|              ESPAÑA|Recuperado|     6/3/2020 0:00:00|        NULL|12/3/2020 0:00:00| 21/3/2020 0:00:00|              PCR|                 6|               NULL|        Adulto|           Sí|\n",
            "|12/3/2020 0:00:00|     11| 11/3/2020 0:00:00|                          11|             BOGOTA|                    11001|          BOGOTA|  42|                 1|   F|    Importado|          Casa|  Leve|            724|              ESPAÑA|Recuperado|     6/3/2020 0:00:00|        NULL|12/3/2020 0:00:00| 31/3/2020 0:00:00|              PCR|                 6|               NULL|        Adulto|           Sí|\n",
            "|12/3/2020 0:00:00|     12| 10/3/2020 0:00:00|                          41|              HUILA|                    41001|           NEIVA|  74|                 1|   F|    Importado|          Casa|  Leve|            380|              ITALIA|Recuperado|     6/3/2020 0:00:00|        NULL|12/3/2020 0:00:00|  9/4/2020 0:00:00|              PCR|                 6|               NULL|  Adulto Mayor|           Sí|\n",
            "|12/3/2020 0:00:00|     13| 10/3/2020 0:00:00|                          41|              HUILA|                    41001|           NEIVA|  68|                 1|   F|  Relacionado|          Casa|  Leve|           NULL|                NULL|Recuperado|     6/3/2020 0:00:00|        NULL|12/3/2020 0:00:00| 30/3/2020 0:00:00|              PCR|                 6|               NULL|  Adulto Mayor|           Sí|\n",
            "|13/3/2020 0:00:00|     14| 10/3/2020 0:00:00|                          76|              VALLE|                    76520|         PALMIRA|  48|                 1|   M|    Importado|          Casa|  Leve|            724|              ESPAÑA|Recuperado|     7/3/2020 0:00:00|        NULL|13/3/2020 0:00:00| 21/3/2020 0:00:00|              PCR|                 5|               NULL|        Adulto|           Sí|\n",
            "|13/3/2020 0:00:00|     15| 13/3/2020 0:00:00|                          50|               META|                    50001|   VILLAVICENCIO|  30|                 1|   F|    Importado|          Casa|  Leve|            724|              ESPAÑA|Recuperado|     9/3/2020 0:00:00|        NULL|13/3/2020 0:00:00| 23/3/2020 0:00:00|              PCR|                 6|               NULL|        Adulto|           Sí|\n",
            "|13/3/2020 0:00:00|     16| 11/3/2020 0:00:00|                          11|             BOGOTA|                    11001|          BOGOTA|  61|                 1|   F|    Importado|          Casa|  Leve|            380|              ITALIA|Recuperado|     8/3/2020 0:00:00|        NULL|13/3/2020 0:00:00| 23/3/2020 0:00:00|              PCR|                 5|               NULL|  Adulto Mayor|           Sí|\n",
            "|14/3/2020 0:00:00|     17| 11/3/2020 0:00:00|                          11|             BOGOTA|                    11001|          BOGOTA|  73|                 1|   F|    Importado|          Casa|  Leve|            724|              ESPAÑA|Recuperado|    28/2/2020 0:00:00|        NULL|14/3/2020 0:00:00| 14/3/2020 0:00:00|              PCR|                 6|               NULL|  Adulto Mayor|           Sí|\n",
            "|14/3/2020 0:00:00|     18| 11/3/2020 0:00:00|                          11|             BOGOTA|                    11001|          BOGOTA|  54|                 1|   M|    Importado|          Casa|  Leve|            724|              ESPAÑA|Recuperado|     7/3/2020 0:00:00|        NULL|14/3/2020 0:00:00|  7/4/2020 0:00:00|           Tiempo|                 6|               NULL|        Adulto|           Sí|\n",
            "|14/3/2020 0:00:00|     19| 12/3/2020 0:00:00|                          11|             BOGOTA|                    11001|          BOGOTA|  54|                 1|   F|  Relacionado|          Casa|  Leve|           NULL|                NULL|Recuperado|     9/3/2020 0:00:00|        NULL|14/3/2020 0:00:00| 24/3/2020 0:00:00|              PCR|                 6|               NULL|        Adulto|           Sí|\n",
            "|14/3/2020 0:00:00|     20| 11/3/2020 0:00:00|                           5|          ANTIOQUIA|                     5001|        MEDELLIN|  26|                 1|   F|  Relacionado|          Casa|  Leve|           NULL|                NULL|Recuperado|     9/3/2020 0:00:00|        NULL|14/3/2020 0:00:00| 24/3/2020 0:00:00|              PCR|                 6|               NULL|        Adulto|           Sí|\n",
            "+-----------------+-------+------------------+----------------------------+-------------------+-------------------------+----------------+----+------------------+----+-------------+--------------+------+---------------+--------------------+----------+---------------------+------------+-----------------+------------------+-----------------+------------------+-------------------+--------------+-------------+\n",
            "only showing top 20 rows\n",
            "\n"
          ]
        }
      ],
      "source": [
        "df.show()"
      ]
    },
    {
      "cell_type": "code",
      "execution_count": null,
      "metadata": {
        "id": "eZKNsmsElymH"
      },
      "outputs": [],
      "source": [
        "# saving file (csv)"
      ]
    },
    {
      "cell_type": "code",
      "execution_count": null,
      "metadata": {
        "colab": {
          "base_uri": "https://localhost:8080/"
        },
        "id": "OHNtvceXlymH",
        "outputId": "7c211c83-510e-4713-db11-e7d764fbc80a"
      },
      "outputs": [
        {
          "name": "stdout",
          "output_type": "stream",
          "text": [
            "/content\n"
          ]
        }
      ],
      "source": [
        "#current working directory\n",
        "!pwd"
      ]
    },
    {
      "cell_type": "code",
      "execution_count": null,
      "metadata": {
        "colab": {
          "base_uri": "https://localhost:8080/"
        },
        "id": "72XxJKw5YogP",
        "outputId": "f255129a-6029-43ef-949f-0f9826788830"
      },
      "outputs": [
        {
          "name": "stdout",
          "output_type": "stream",
          "text": [
            "--2024-11-07 23:44:53--  https://repo1.maven.org/maven2/org/apache/hadoop/hadoop-aws/3.3.4/hadoop-aws-3.3.4.jar\n",
            "Resolving repo1.maven.org (repo1.maven.org)... 199.232.192.209, 199.232.196.209, 2a04:4e42:4c::209, ...\n",
            "Connecting to repo1.maven.org (repo1.maven.org)|199.232.192.209|:443... connected.\n",
            "HTTP request sent, awaiting response... 200 OK\n",
            "Length: 962685 (940K) [application/java-archive]\n",
            "Saving to: ‘hadoop-aws-3.3.4.jar.1’\n",
            "\n",
            "\rhadoop-aws-3.3.4.ja   0%[                    ]       0  --.-KB/s               \rhadoop-aws-3.3.4.ja 100%[===================>] 940.12K  --.-KB/s    in 0.06s   \n",
            "\n",
            "2024-11-07 23:44:54 (15.3 MB/s) - ‘hadoop-aws-3.3.4.jar.1’ saved [962685/962685]\n",
            "\n",
            "--2024-11-07 23:44:54--  https://repo1.maven.org/maven2/com/amazonaws/aws-java-sdk-bundle/1.11.1026/aws-java-sdk-bundle-1.11.1026.jar\n",
            "Resolving repo1.maven.org (repo1.maven.org)... 199.232.192.209, 199.232.196.209, 2a04:4e42:4c::209, ...\n",
            "Connecting to repo1.maven.org (repo1.maven.org)|199.232.192.209|:443... connected.\n",
            "HTTP request sent, awaiting response... 200 OK\n",
            "Length: 226379782 (216M) [application/java-archive]\n",
            "Saving to: ‘aws-java-sdk-bundle-1.11.1026.jar.1’\n",
            "\n",
            "aws-java-sdk-bundle 100%[===================>] 215.89M   192MB/s    in 1.1s    \n",
            "\n",
            "2024-11-07 23:44:55 (192 MB/s) - ‘aws-java-sdk-bundle-1.11.1026.jar.1’ saved [226379782/226379782]\n",
            "\n"
          ]
        }
      ],
      "source": [
        "!mkdir -p /usr/local/spark/jars/\n",
        "\n",
        "!wget https://repo1.maven.org/maven2/org/apache/hadoop/hadoop-aws/3.3.4/hadoop-aws-3.3.4.jar\n",
        "!wget https://repo1.maven.org/maven2/com/amazonaws/aws-java-sdk-bundle/1.11.1026/aws-java-sdk-bundle-1.11.1026.jar\n",
        "!cp hadoop-aws-3.3.4.jar /usr/local/spark/jars/\n",
        "!cp aws-java-sdk-bundle-1.11.1026.jar /usr/local/spark/jars/"
      ]
    },
    {
      "cell_type": "code",
      "execution_count": null,
      "metadata": {
        "id": "DWSPPWc6lymH"
      },
      "outputs": [],
      "source": [
        "write_uri='s3a://labs/bigdata/colab/csv'"
      ]
    },
    {
      "cell_type": "code",
      "execution_count": null,
      "metadata": {
        "collapsed": true,
        "id": "fiyybAZjlymH"
      },
      "outputs": [],
      "source": [
        "df.coalesce(1).write.format(\"csv\").option(\"header\", \"true\").save(write_uri)"
      ]
    }
  ],
  "metadata": {
    "colab": {
      "provenance": []
    },
    "kernelspec": {
      "display_name": "Python 3.10.8 64-bit",
      "language": "python",
      "name": "python3"
    },
    "language_info": {
      "codemirror_mode": {
        "name": "ipython",
        "version": 3
      },
      "file_extension": ".py",
      "mimetype": "text/x-python",
      "name": "python",
      "nbconvert_exporter": "python",
      "pygments_lexer": "ipython3",
      "version": "3.10.8"
    },
    "vscode": {
      "interpreter": {
        "hash": "aee8b7b246df8f9039afb4144a1f6fd8d2ca17a180786b69acc140d282b71a49"
      }
    }
  },
  "nbformat": 4,
  "nbformat_minor": 0
}