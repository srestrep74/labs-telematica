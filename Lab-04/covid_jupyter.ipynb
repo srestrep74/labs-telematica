{
  "cells": [
    {
      "metadata": {
        "id": "dX9gpRI_lylx"
      },
      "cell_type": "markdown",
      "source": [
        "# Covid19 Data Processing using Pyspark"
      ]
    },
    {
      "metadata": {
        "colab": {
          "base_uri": "https://localhost:8080/",
          "height": 222,
          "referenced_widgets": [
            ""
          ]
        },
        "id": "zfbgEwvBlyl6",
        "outputId": "c3c0b261-7035-4aa8-e5a4-b07475dc5023",
        "trusted": true
      },
      "cell_type": "code",
      "source": [
        "spark"
      ],
      "execution_count": null,
      "outputs": [
        {
          "output_type": "display_data",
          "data": {
            "text/plain": "FloatProgress(value=0.0, bar_style='info', description='Progress:', layout=Layout(height='25px', width='50%'),…",
            "application/vnd.jupyter.widget-view+json": {
              "version_major": 2,
              "version_minor": 0,
              "model_id": ""
            }
          },
          "metadata": {}
        },
        {
          "output_type": "stream",
          "text": "<pyspark.sql.session.SparkSession object at 0x7f537b46ef10>",
          "name": "stdout"
        }
      ]
    },
    {
      "metadata": {
        "colab": {
          "base_uri": "https://localhost:8080/",
          "height": 198,
          "referenced_widgets": [
            ""
          ]
        },
        "id": "pDVoRw_Vlyl7",
        "outputId": "5aef3bf0-39e0-4cca-c0eb-019b5aba064e",
        "trusted": true
      },
      "cell_type": "code",
      "source": [
        "sc"
      ],
      "execution_count": null,
      "outputs": [
        {
          "output_type": "display_data",
          "data": {
            "text/plain": "FloatProgress(value=0.0, bar_style='info', description='Progress:', layout=Layout(height='25px', width='50%'),…",
            "application/vnd.jupyter.widget-view+json": {
              "version_major": 2,
              "version_minor": 0,
              "model_id": ""
            }
          },
          "metadata": {}
        },
        {
          "output_type": "stream",
          "text": "<SparkContext master=yarn appName=livy-session-2>",
          "name": "stdout"
        }
      ]
    },
    {
      "metadata": {
        "id": "3LAORjzwlyl8",
        "trusted": true,
        "colab": {
          "referenced_widgets": [
            ""
          ]
        },
        "outputId": "7fe41d94-a6b3-4db3-b134-f4da725e3b68"
      },
      "cell_type": "code",
      "source": [
        "# Load csv Dataset\n",
        "df = spark.read.csv('s3://big-data-topicos/bigdata/datasets/covid19/Casos_positivos_de_COVID-19_en_Colombia-100K.csv', inferSchema=True, header=True)"
      ],
      "execution_count": null,
      "outputs": [
        {
          "output_type": "display_data",
          "data": {
            "text/plain": "FloatProgress(value=0.0, bar_style='info', description='Progress:', layout=Layout(height='25px', width='50%'),…",
            "application/vnd.jupyter.widget-view+json": {
              "version_major": 2,
              "version_minor": 0,
              "model_id": ""
            }
          },
          "metadata": {}
        }
      ]
    },
    {
      "metadata": {
        "colab": {
          "base_uri": "https://localhost:8080/",
          "referenced_widgets": [
            ""
          ]
        },
        "id": "bo1LscY9lyl8",
        "outputId": "bffc2e17-3c77-47e6-8a16-f52a39fa1d7c",
        "trusted": true
      },
      "cell_type": "code",
      "source": [
        "df.columns"
      ],
      "execution_count": null,
      "outputs": [
        {
          "output_type": "display_data",
          "data": {
            "text/plain": "FloatProgress(value=0.0, bar_style='info', description='Progress:', layout=Layout(height='25px', width='50%'),…",
            "application/vnd.jupyter.widget-view+json": {
              "version_major": 2,
              "version_minor": 0,
              "model_id": ""
            }
          },
          "metadata": {}
        },
        {
          "output_type": "stream",
          "text": "['fecha_reporte_web', 'id_caso', 'fecha_notificación', 'codigo_divipola_departamento', 'departamento', 'codigo_divipola_municipio', 'municipio', 'edad', 'unidad_medida_edad', 'sexo', 'tipo_contagio', 'ubicacion_caso', 'estado', 'codigo_iso_pais', 'pais', 'recuperado', 'fecha_inicio_sintomas', 'fecha_muerte', 'fecha_diagnostico', 'fecha_recuperacion', 'tipo_recuperacion', 'pertenencia_etnica', 'nombre_grupo_etnico']",
          "name": "stdout"
        }
      ]
    },
    {
      "metadata": {
        "colab": {
          "base_uri": "https://localhost:8080/",
          "referenced_widgets": [
            ""
          ]
        },
        "id": "OnyuePkClyl9",
        "outputId": "67b0e60c-137c-41fa-cb5f-27fbee546b01",
        "trusted": true
      },
      "cell_type": "code",
      "source": [
        "len(df.columns)"
      ],
      "execution_count": null,
      "outputs": [
        {
          "output_type": "display_data",
          "data": {
            "text/plain": "FloatProgress(value=0.0, bar_style='info', description='Progress:', layout=Layout(height='25px', width='50%'),…",
            "application/vnd.jupyter.widget-view+json": {
              "version_major": 2,
              "version_minor": 0,
              "model_id": ""
            }
          },
          "metadata": {}
        },
        {
          "output_type": "stream",
          "text": "23",
          "name": "stdout"
        }
      ]
    },
    {
      "metadata": {
        "colab": {
          "base_uri": "https://localhost:8080/",
          "referenced_widgets": [
            ""
          ]
        },
        "id": "rUIUWwUzlyl-",
        "outputId": "4045308a-5a5b-4a59-f108-98e4097ed199",
        "trusted": true
      },
      "cell_type": "code",
      "source": [
        "df.count()"
      ],
      "execution_count": null,
      "outputs": [
        {
          "output_type": "display_data",
          "data": {
            "text/plain": "FloatProgress(value=0.0, bar_style='info', description='Progress:', layout=Layout(height='25px', width='50%'),…",
            "application/vnd.jupyter.widget-view+json": {
              "version_major": 2,
              "version_minor": 0,
              "model_id": ""
            }
          },
          "metadata": {}
        },
        {
          "output_type": "stream",
          "text": "100000",
          "name": "stdout"
        }
      ]
    },
    {
      "metadata": {
        "colab": {
          "base_uri": "https://localhost:8080/",
          "referenced_widgets": [
            ""
          ]
        },
        "id": "3LmB9leSlyl-",
        "outputId": "4f8fec72-458c-4065-f87f-c0fad6c7f597",
        "trusted": true
      },
      "cell_type": "code",
      "source": [
        "#shape of dataset\n",
        "print((df.count(), len(df.columns)))"
      ],
      "execution_count": null,
      "outputs": [
        {
          "output_type": "display_data",
          "data": {
            "text/plain": "FloatProgress(value=0.0, bar_style='info', description='Progress:', layout=Layout(height='25px', width='50%'),…",
            "application/vnd.jupyter.widget-view+json": {
              "version_major": 2,
              "version_minor": 0,
              "model_id": ""
            }
          },
          "metadata": {}
        },
        {
          "output_type": "stream",
          "text": "(100000, 23)",
          "name": "stdout"
        }
      ]
    },
    {
      "metadata": {
        "colab": {
          "base_uri": "https://localhost:8080/",
          "referenced_widgets": [
            ""
          ]
        },
        "id": "pbLRmcTIlyl_",
        "outputId": "ed77d407-d284-4c22-bba9-2142f322000d",
        "trusted": true
      },
      "cell_type": "code",
      "source": [
        "#printSchema\n",
        "df.printSchema()"
      ],
      "execution_count": null,
      "outputs": [
        {
          "output_type": "display_data",
          "data": {
            "text/plain": "FloatProgress(value=0.0, bar_style='info', description='Progress:', layout=Layout(height='25px', width='50%'),…",
            "application/vnd.jupyter.widget-view+json": {
              "version_major": 2,
              "version_minor": 0,
              "model_id": ""
            }
          },
          "metadata": {}
        },
        {
          "output_type": "stream",
          "text": "root\n |-- fecha_reporte_web: string (nullable = true)\n |-- id_caso: integer (nullable = true)\n |-- fecha_notificación: string (nullable = true)\n |-- codigo_divipola_departamento: integer (nullable = true)\n |-- departamento: string (nullable = true)\n |-- codigo_divipola_municipio: integer (nullable = true)\n |-- municipio: string (nullable = true)\n |-- edad: integer (nullable = true)\n |-- unidad_medida_edad: integer (nullable = true)\n |-- sexo: string (nullable = true)\n |-- tipo_contagio: string (nullable = true)\n |-- ubicacion_caso: string (nullable = true)\n |-- estado: string (nullable = true)\n |-- codigo_iso_pais: integer (nullable = true)\n |-- pais: string (nullable = true)\n |-- recuperado: string (nullable = true)\n |-- fecha_inicio_sintomas: string (nullable = true)\n |-- fecha_muerte: string (nullable = true)\n |-- fecha_diagnostico: string (nullable = true)\n |-- fecha_recuperacion: string (nullable = true)\n |-- tipo_recuperacion: string (nullable = true)\n |-- pertenencia_etnica: integer (nullable = true)\n |-- nombre_grupo_etnico: string (nullable = true)",
          "name": "stdout"
        }
      ]
    },
    {
      "metadata": {
        "colab": {
          "base_uri": "https://localhost:8080/",
          "referenced_widgets": [
            ""
          ]
        },
        "id": "a5DRFHNVlyl_",
        "outputId": "2025ee5f-f2b5-4c86-ba62-05223e0a2a24",
        "trusted": true
      },
      "cell_type": "code",
      "source": [
        "#fisrt few rows of dataframe\n",
        "df.show()"
      ],
      "execution_count": null,
      "outputs": [
        {
          "output_type": "display_data",
          "data": {
            "text/plain": "FloatProgress(value=0.0, bar_style='info', description='Progress:', layout=Layout(height='25px', width='50%'),…",
            "application/vnd.jupyter.widget-view+json": {
              "version_major": 2,
              "version_minor": 0,
              "model_id": ""
            }
          },
          "metadata": {}
        },
        {
          "output_type": "stream",
          "text": "+-----------------+-------+------------------+----------------------------+------------+-------------------------+-------------+----+------------------+----+-------------+--------------+------+---------------+--------------------+----------+---------------------+------------+-----------------+------------------+-----------------+------------------+-------------------+\n|fecha_reporte_web|id_caso|fecha_notificación|codigo_divipola_departamento|departamento|codigo_divipola_municipio|    municipio|edad|unidad_medida_edad|sexo|tipo_contagio|ubicacion_caso|estado|codigo_iso_pais|                pais|recuperado|fecha_inicio_sintomas|fecha_muerte|fecha_diagnostico|fecha_recuperacion|tipo_recuperacion|pertenencia_etnica|nombre_grupo_etnico|\n+-----------------+-------+------------------+----------------------------+------------+-------------------------+-------------+----+------------------+----+-------------+--------------+------+---------------+--------------------+----------+---------------------+------------+-----------------+------------------+-----------------+------------------+-------------------+\n| 6/3/2020 0:00:00|      1|  2/3/2020 0:00:00|                          11|      BOGOTA|                    11001|       BOGOTA|  19|                 1|   F|    Importado|          Casa|  Leve|            380|              ITALIA|Recuperado|    27/2/2020 0:00:00|        NULL| 6/3/2020 0:00:00| 13/3/2020 0:00:00|              PCR|                 6|               NULL|\n| 9/3/2020 0:00:00|      2|  6/3/2020 0:00:00|                          76|       VALLE|                    76111|         BUGA|  34|                 1|   M|    Importado|          Casa|  Leve|            724|              ESPAÑA|Recuperado|     4/3/2020 0:00:00|        NULL| 9/3/2020 0:00:00| 19/3/2020 0:00:00|              PCR|                 5|               NULL|\n| 9/3/2020 0:00:00|      3|  7/3/2020 0:00:00|                           5|   ANTIOQUIA|                     5001|     MEDELLIN|  50|                 1|   F|    Importado|          Casa|  Leve|            724|              ESPAÑA|Recuperado|    29/2/2020 0:00:00|        NULL| 9/3/2020 0:00:00| 15/3/2020 0:00:00|              PCR|                 6|               NULL|\n|11/3/2020 0:00:00|      4|  9/3/2020 0:00:00|                           5|   ANTIOQUIA|                     5001|     MEDELLIN|  55|                 1|   M|  Relacionado|          Casa|  Leve|           NULL|                NULL|Recuperado|     6/3/2020 0:00:00|        NULL|11/3/2020 0:00:00| 26/3/2020 0:00:00|              PCR|                 6|               NULL|\n|11/3/2020 0:00:00|      5|  9/3/2020 0:00:00|                           5|   ANTIOQUIA|                     5001|     MEDELLIN|  25|                 1|   M|  Relacionado|          Casa|  Leve|           NULL|                NULL|Recuperado|     8/3/2020 0:00:00|        NULL|11/3/2020 0:00:00| 23/3/2020 0:00:00|              PCR|                 6|               NULL|\n|11/3/2020 0:00:00|      6| 10/3/2020 0:00:00|                           5|   ANTIOQUIA|                     5360|       ITAGUI|  27|                 1|   F|  Relacionado|          Casa|  Leve|           NULL|                NULL|Recuperado|     6/3/2020 0:00:00|        NULL|11/3/2020 0:00:00| 26/3/2020 0:00:00|              PCR|                 6|               NULL|\n|11/3/2020 0:00:00|      7|  8/3/2020 0:00:00|                       13001|   CARTAGENA|                    13001|    CARTAGENA|  85|                 1|   F|    Importado|          Casa|  Leve|            840|ESTADOS UNIDOS DE...|Recuperado|     2/3/2020 0:00:00|        NULL|11/3/2020 0:00:00| 17/3/2020 0:00:00|              PCR|                 6|               NULL|\n|11/3/2020 0:00:00|      8|  9/3/2020 0:00:00|                          11|      BOGOTA|                    11001|       BOGOTA|  22|                 1|   F|    Importado|          Casa|  Leve|            724|              ESPAÑA|Recuperado|     6/3/2020 0:00:00|        NULL|11/3/2020 0:00:00| 21/3/2020 0:00:00|              PCR|                 6|               NULL|\n|11/3/2020 0:00:00|      9|  8/3/2020 0:00:00|                          11|      BOGOTA|                    11001|       BOGOTA|  28|                 1|   F|    Importado|          Casa|  Leve|            724|              ESPAÑA|Recuperado|     7/3/2020 0:00:00|        NULL|11/3/2020 0:00:00| 23/3/2020 0:00:00|              PCR|                 6|               NULL|\n|12/3/2020 0:00:00|     10| 12/3/2020 0:00:00|                          11|      BOGOTA|                    11001|       BOGOTA|  36|                 1|   F|    Importado|          Casa|  Leve|            724|              ESPAÑA|Recuperado|     6/3/2020 0:00:00|        NULL|12/3/2020 0:00:00| 21/3/2020 0:00:00|              PCR|                 6|               NULL|\n|12/3/2020 0:00:00|     11| 11/3/2020 0:00:00|                          11|      BOGOTA|                    11001|       BOGOTA|  42|                 1|   F|    Importado|          Casa|  Leve|            724|              ESPAÑA|Recuperado|     6/3/2020 0:00:00|        NULL|12/3/2020 0:00:00| 31/3/2020 0:00:00|              PCR|                 6|               NULL|\n|12/3/2020 0:00:00|     12| 10/3/2020 0:00:00|                          41|       HUILA|                    41001|        NEIVA|  74|                 1|   F|    Importado|          Casa|  Leve|            380|              ITALIA|Recuperado|     6/3/2020 0:00:00|        NULL|12/3/2020 0:00:00|  9/4/2020 0:00:00|              PCR|                 6|               NULL|\n|12/3/2020 0:00:00|     13| 10/3/2020 0:00:00|                          41|       HUILA|                    41001|        NEIVA|  68|                 1|   F|  Relacionado|          Casa|  Leve|           NULL|                NULL|Recuperado|     6/3/2020 0:00:00|        NULL|12/3/2020 0:00:00| 30/3/2020 0:00:00|              PCR|                 6|               NULL|\n|13/3/2020 0:00:00|     14| 10/3/2020 0:00:00|                          76|       VALLE|                    76520|      PALMIRA|  48|                 1|   M|    Importado|          Casa|  Leve|            724|              ESPAÑA|Recuperado|     7/3/2020 0:00:00|        NULL|13/3/2020 0:00:00| 21/3/2020 0:00:00|              PCR|                 5|               NULL|\n|13/3/2020 0:00:00|     15| 13/3/2020 0:00:00|                          50|        META|                    50001|VILLAVICENCIO|  30|                 1|   F|    Importado|          Casa|  Leve|            724|              ESPAÑA|Recuperado|     9/3/2020 0:00:00|        NULL|13/3/2020 0:00:00| 23/3/2020 0:00:00|              PCR|                 6|               NULL|\n|13/3/2020 0:00:00|     16| 11/3/2020 0:00:00|                          11|      BOGOTA|                    11001|       BOGOTA|  61|                 1|   F|    Importado|          Casa|  Leve|            380|              ITALIA|Recuperado|     8/3/2020 0:00:00|        NULL|13/3/2020 0:00:00| 23/3/2020 0:00:00|              PCR|                 5|               NULL|\n|14/3/2020 0:00:00|     17| 11/3/2020 0:00:00|                          11|      BOGOTA|                    11001|       BOGOTA|  73|                 1|   F|    Importado|          Casa|  Leve|            724|              ESPAÑA|Recuperado|    28/2/2020 0:00:00|        NULL|14/3/2020 0:00:00| 14/3/2020 0:00:00|              PCR|                 6|               NULL|\n|14/3/2020 0:00:00|     18| 11/3/2020 0:00:00|                          11|      BOGOTA|                    11001|       BOGOTA|  54|                 1|   M|    Importado|          Casa|  Leve|            724|              ESPAÑA|Recuperado|     7/3/2020 0:00:00|        NULL|14/3/2020 0:00:00|  7/4/2020 0:00:00|           Tiempo|                 6|               NULL|\n|14/3/2020 0:00:00|     19| 12/3/2020 0:00:00|                          11|      BOGOTA|                    11001|       BOGOTA|  54|                 1|   F|  Relacionado|          Casa|  Leve|           NULL|                NULL|Recuperado|     9/3/2020 0:00:00|        NULL|14/3/2020 0:00:00| 24/3/2020 0:00:00|              PCR|                 6|               NULL|\n|14/3/2020 0:00:00|     20| 11/3/2020 0:00:00|                           5|   ANTIOQUIA|                     5001|     MEDELLIN|  26|                 1|   F|  Relacionado|          Casa|  Leve|           NULL|                NULL|Recuperado|     9/3/2020 0:00:00|        NULL|14/3/2020 0:00:00| 24/3/2020 0:00:00|              PCR|                 6|               NULL|\n+-----------------+-------+------------------+----------------------------+------------+-------------------------+-------------+----+------------------+----+-------------+--------------+------+---------------+--------------------+----------+---------------------+------------+-----------------+------------------+-----------------+------------------+-------------------+\nonly showing top 20 rows",
          "name": "stdout"
        }
      ]
    },
    {
      "metadata": {
        "colab": {
          "base_uri": "https://localhost:8080/",
          "referenced_widgets": [
            ""
          ]
        },
        "id": "TktzbJyvlyl_",
        "outputId": "bc78e70b-cf67-43e4-8e52-e15c9f8dc944",
        "trusted": true
      },
      "cell_type": "code",
      "source": [
        "#select only 2 columns\n",
        "df.select('edad', 'sexo').show(5)"
      ],
      "execution_count": null,
      "outputs": [
        {
          "output_type": "display_data",
          "data": {
            "text/plain": "FloatProgress(value=0.0, bar_style='info', description='Progress:', layout=Layout(height='25px', width='50%'),…",
            "application/vnd.jupyter.widget-view+json": {
              "version_major": 2,
              "version_minor": 0,
              "model_id": ""
            }
          },
          "metadata": {}
        },
        {
          "output_type": "stream",
          "text": "+----+----+\n|edad|sexo|\n+----+----+\n|  19|   F|\n|  34|   M|\n|  50|   F|\n|  55|   M|\n|  25|   M|\n+----+----+\nonly showing top 5 rows",
          "name": "stdout"
        }
      ]
    },
    {
      "metadata": {
        "colab": {
          "base_uri": "https://localhost:8080/",
          "referenced_widgets": [
            ""
          ]
        },
        "id": "rROFZNZTlyl_",
        "outputId": "8a39c189-a680-4f33-d80a-1469100ae38e",
        "trusted": true
      },
      "cell_type": "code",
      "source": [
        "#info about dataframe\n",
        "df.describe().show()"
      ],
      "execution_count": null,
      "outputs": [
        {
          "output_type": "display_data",
          "data": {
            "text/plain": "FloatProgress(value=0.0, bar_style='info', description='Progress:', layout=Layout(height='25px', width='50%'),…",
            "application/vnd.jupyter.widget-view+json": {
              "version_major": 2,
              "version_minor": 0,
              "model_id": ""
            }
          },
          "metadata": {}
        },
        {
          "output_type": "stream",
          "text": "+-------+-----------------+------------------+------------------+----------------------------+------------+-------------------------+---------------+------------------+-------------------+------+-------------+--------------+---------+------------------+---------+----------+---------------------+----------------+-----------------+------------------+-----------------+------------------+-------------------+\n|summary|fecha_reporte_web|           id_caso|fecha_notificación|codigo_divipola_departamento|departamento|codigo_divipola_municipio|      municipio|              edad| unidad_medida_edad|  sexo|tipo_contagio|ubicacion_caso|   estado|   codigo_iso_pais|     pais|recuperado|fecha_inicio_sintomas|    fecha_muerte|fecha_diagnostico|fecha_recuperacion|tipo_recuperacion|pertenencia_etnica|nombre_grupo_etnico|\n+-------+-----------------+------------------+------------------+----------------------------+------------+-------------------------+---------------+------------------+-------------------+------+-------------+--------------+---------+------------------+---------+----------+---------------------+----------------+-----------------+------------------+-----------------+------------------+-------------------+\n|  count|           100000|            100000|            100000|                      100000|      100000|                   100000|         100000|            100000|             100000|100000|       100000|        100000|   100000|               912|      912|    100000|                91615|            5633|            97693|             94832|            94832|            100000|               5658|\n|   mean|             NULL|       50038.74855|              NULL|                   2631.6288|        NULL|              25327.34487|           NULL|          39.30175|            1.00637|  NULL|         NULL|          NULL|     NULL| 596.3475877192982|     NULL|      NULL|                 NULL|            NULL|             NULL|              NULL|             NULL|           5.57693|               NULL|\n| stddev|             NULL|28870.559312724497|              NULL|           6172.660309006438|        NULL|       25830.580807180544|           NULL|18.420127848324004|0.08893538213232118|  NULL|         NULL|          NULL|     NULL|255.56508665655983|     NULL|      NULL|                 NULL|            NULL|             NULL|              NULL|             NULL| 1.182825331930982|               NULL|\n|    min| 1/4/2020 0:00:00|                 1|  1/4/2020 0:00:00|                           5|    AMAZONAS|                     5001|         ABREGO|                 1|                  1|     F|  Comunitaria|          Casa|Fallecido|                32| ALEMANIA| Fallecido|     1/3/2020 0:00:00|1/1/2021 0:00:00| 1/4/2020 0:00:00|  1/1/2021 0:00:00|              PCR|                 1|             AMBALO|\n|    max| 9/6/2020 0:00:00|            100040|  9/7/2020 0:00:00|                       47001|     VICHADA|                    99001|puerto COLOMBIA|               104|                  3|     M|  Relacionado|           N/A|      N/A|               862|VENEZUELA| fallecido|     9/7/2020 0:00:00|9/9/2020 0:00:00| 9/9/2020 0:00:00|  9/8/2020 0:00:00|           Tiempo|                 6|               ZENU|\n+-------+-----------------+------------------+------------------+----------------------------+------------+-------------------------+---------------+------------------+-------------------+------+-------------+--------------+---------+------------------+---------+----------+---------------------+----------------+-----------------+------------------+-----------------+------------------+-------------------+",
          "name": "stdout"
        }
      ]
    },
    {
      "metadata": {
        "id": "x895PQEuRtfl",
        "trusted": true,
        "colab": {
          "referenced_widgets": [
            ""
          ]
        },
        "outputId": "a9e89385-2c46-4e4a-b7d6-fcf7ac2a5886"
      },
      "cell_type": "code",
      "source": [
        "from pyspark.sql.functions import when"
      ],
      "execution_count": null,
      "outputs": [
        {
          "output_type": "display_data",
          "data": {
            "text/plain": "FloatProgress(value=0.0, bar_style='info', description='Progress:', layout=Layout(height='25px', width='50%'),…",
            "application/vnd.jupyter.widget-view+json": {
              "version_major": 2,
              "version_minor": 0,
              "model_id": ""
            }
          },
          "metadata": {}
        }
      ]
    },
    {
      "metadata": {
        "colab": {
          "base_uri": "https://localhost:8080/",
          "referenced_widgets": [
            ""
          ]
        },
        "id": "9k8uuEG9SFw4",
        "outputId": "2f862d39-1f2a-44e9-e69a-e16c2edd7b41",
        "trusted": true
      },
      "cell_type": "code",
      "source": [
        "df = df.withColumn(\"adulto_mayor\", when(df[\"edad\"] >= 60, False).otherwise(True))\n",
        "df.show()"
      ],
      "execution_count": null,
      "outputs": [
        {
          "output_type": "display_data",
          "data": {
            "text/plain": "FloatProgress(value=0.0, bar_style='info', description='Progress:', layout=Layout(height='25px', width='50%'),…",
            "application/vnd.jupyter.widget-view+json": {
              "version_major": 2,
              "version_minor": 0,
              "model_id": ""
            }
          },
          "metadata": {}
        },
        {
          "output_type": "stream",
          "text": "+-----------------+-------+------------------+----------------------------+------------+-------------------------+-------------+----+------------------+----+-------------+--------------+------+---------------+--------------------+----------+---------------------+------------+-----------------+------------------+-----------------+------------------+-------------------+------------+\n|fecha_reporte_web|id_caso|fecha_notificación|codigo_divipola_departamento|departamento|codigo_divipola_municipio|    municipio|edad|unidad_medida_edad|sexo|tipo_contagio|ubicacion_caso|estado|codigo_iso_pais|                pais|recuperado|fecha_inicio_sintomas|fecha_muerte|fecha_diagnostico|fecha_recuperacion|tipo_recuperacion|pertenencia_etnica|nombre_grupo_etnico|adulto_mayor|\n+-----------------+-------+------------------+----------------------------+------------+-------------------------+-------------+----+------------------+----+-------------+--------------+------+---------------+--------------------+----------+---------------------+------------+-----------------+------------------+-----------------+------------------+-------------------+------------+\n| 6/3/2020 0:00:00|      1|  2/3/2020 0:00:00|                          11|      BOGOTA|                    11001|       BOGOTA|  19|                 1|   F|    Importado|          Casa|  Leve|            380|              ITALIA|Recuperado|    27/2/2020 0:00:00|        NULL| 6/3/2020 0:00:00| 13/3/2020 0:00:00|              PCR|                 6|               NULL|        true|\n| 9/3/2020 0:00:00|      2|  6/3/2020 0:00:00|                          76|       VALLE|                    76111|         BUGA|  34|                 1|   M|    Importado|          Casa|  Leve|            724|              ESPAÑA|Recuperado|     4/3/2020 0:00:00|        NULL| 9/3/2020 0:00:00| 19/3/2020 0:00:00|              PCR|                 5|               NULL|        true|\n| 9/3/2020 0:00:00|      3|  7/3/2020 0:00:00|                           5|   ANTIOQUIA|                     5001|     MEDELLIN|  50|                 1|   F|    Importado|          Casa|  Leve|            724|              ESPAÑA|Recuperado|    29/2/2020 0:00:00|        NULL| 9/3/2020 0:00:00| 15/3/2020 0:00:00|              PCR|                 6|               NULL|        true|\n|11/3/2020 0:00:00|      4|  9/3/2020 0:00:00|                           5|   ANTIOQUIA|                     5001|     MEDELLIN|  55|                 1|   M|  Relacionado|          Casa|  Leve|           NULL|                NULL|Recuperado|     6/3/2020 0:00:00|        NULL|11/3/2020 0:00:00| 26/3/2020 0:00:00|              PCR|                 6|               NULL|        true|\n|11/3/2020 0:00:00|      5|  9/3/2020 0:00:00|                           5|   ANTIOQUIA|                     5001|     MEDELLIN|  25|                 1|   M|  Relacionado|          Casa|  Leve|           NULL|                NULL|Recuperado|     8/3/2020 0:00:00|        NULL|11/3/2020 0:00:00| 23/3/2020 0:00:00|              PCR|                 6|               NULL|        true|\n|11/3/2020 0:00:00|      6| 10/3/2020 0:00:00|                           5|   ANTIOQUIA|                     5360|       ITAGUI|  27|                 1|   F|  Relacionado|          Casa|  Leve|           NULL|                NULL|Recuperado|     6/3/2020 0:00:00|        NULL|11/3/2020 0:00:00| 26/3/2020 0:00:00|              PCR|                 6|               NULL|        true|\n|11/3/2020 0:00:00|      7|  8/3/2020 0:00:00|                       13001|   CARTAGENA|                    13001|    CARTAGENA|  85|                 1|   F|    Importado|          Casa|  Leve|            840|ESTADOS UNIDOS DE...|Recuperado|     2/3/2020 0:00:00|        NULL|11/3/2020 0:00:00| 17/3/2020 0:00:00|              PCR|                 6|               NULL|       false|\n|11/3/2020 0:00:00|      8|  9/3/2020 0:00:00|                          11|      BOGOTA|                    11001|       BOGOTA|  22|                 1|   F|    Importado|          Casa|  Leve|            724|              ESPAÑA|Recuperado|     6/3/2020 0:00:00|        NULL|11/3/2020 0:00:00| 21/3/2020 0:00:00|              PCR|                 6|               NULL|        true|\n|11/3/2020 0:00:00|      9|  8/3/2020 0:00:00|                          11|      BOGOTA|                    11001|       BOGOTA|  28|                 1|   F|    Importado|          Casa|  Leve|            724|              ESPAÑA|Recuperado|     7/3/2020 0:00:00|        NULL|11/3/2020 0:00:00| 23/3/2020 0:00:00|              PCR|                 6|               NULL|        true|\n|12/3/2020 0:00:00|     10| 12/3/2020 0:00:00|                          11|      BOGOTA|                    11001|       BOGOTA|  36|                 1|   F|    Importado|          Casa|  Leve|            724|              ESPAÑA|Recuperado|     6/3/2020 0:00:00|        NULL|12/3/2020 0:00:00| 21/3/2020 0:00:00|              PCR|                 6|               NULL|        true|\n|12/3/2020 0:00:00|     11| 11/3/2020 0:00:00|                          11|      BOGOTA|                    11001|       BOGOTA|  42|                 1|   F|    Importado|          Casa|  Leve|            724|              ESPAÑA|Recuperado|     6/3/2020 0:00:00|        NULL|12/3/2020 0:00:00| 31/3/2020 0:00:00|              PCR|                 6|               NULL|        true|\n|12/3/2020 0:00:00|     12| 10/3/2020 0:00:00|                          41|       HUILA|                    41001|        NEIVA|  74|                 1|   F|    Importado|          Casa|  Leve|            380|              ITALIA|Recuperado|     6/3/2020 0:00:00|        NULL|12/3/2020 0:00:00|  9/4/2020 0:00:00|              PCR|                 6|               NULL|       false|\n|12/3/2020 0:00:00|     13| 10/3/2020 0:00:00|                          41|       HUILA|                    41001|        NEIVA|  68|                 1|   F|  Relacionado|          Casa|  Leve|           NULL|                NULL|Recuperado|     6/3/2020 0:00:00|        NULL|12/3/2020 0:00:00| 30/3/2020 0:00:00|              PCR|                 6|               NULL|       false|\n|13/3/2020 0:00:00|     14| 10/3/2020 0:00:00|                          76|       VALLE|                    76520|      PALMIRA|  48|                 1|   M|    Importado|          Casa|  Leve|            724|              ESPAÑA|Recuperado|     7/3/2020 0:00:00|        NULL|13/3/2020 0:00:00| 21/3/2020 0:00:00|              PCR|                 5|               NULL|        true|\n|13/3/2020 0:00:00|     15| 13/3/2020 0:00:00|                          50|        META|                    50001|VILLAVICENCIO|  30|                 1|   F|    Importado|          Casa|  Leve|            724|              ESPAÑA|Recuperado|     9/3/2020 0:00:00|        NULL|13/3/2020 0:00:00| 23/3/2020 0:00:00|              PCR|                 6|               NULL|        true|\n|13/3/2020 0:00:00|     16| 11/3/2020 0:00:00|                          11|      BOGOTA|                    11001|       BOGOTA|  61|                 1|   F|    Importado|          Casa|  Leve|            380|              ITALIA|Recuperado|     8/3/2020 0:00:00|        NULL|13/3/2020 0:00:00| 23/3/2020 0:00:00|              PCR|                 5|               NULL|       false|\n|14/3/2020 0:00:00|     17| 11/3/2020 0:00:00|                          11|      BOGOTA|                    11001|       BOGOTA|  73|                 1|   F|    Importado|          Casa|  Leve|            724|              ESPAÑA|Recuperado|    28/2/2020 0:00:00|        NULL|14/3/2020 0:00:00| 14/3/2020 0:00:00|              PCR|                 6|               NULL|       false|\n|14/3/2020 0:00:00|     18| 11/3/2020 0:00:00|                          11|      BOGOTA|                    11001|       BOGOTA|  54|                 1|   M|    Importado|          Casa|  Leve|            724|              ESPAÑA|Recuperado|     7/3/2020 0:00:00|        NULL|14/3/2020 0:00:00|  7/4/2020 0:00:00|           Tiempo|                 6|               NULL|        true|\n|14/3/2020 0:00:00|     19| 12/3/2020 0:00:00|                          11|      BOGOTA|                    11001|       BOGOTA|  54|                 1|   F|  Relacionado|          Casa|  Leve|           NULL|                NULL|Recuperado|     9/3/2020 0:00:00|        NULL|14/3/2020 0:00:00| 24/3/2020 0:00:00|              PCR|                 6|               NULL|        true|\n|14/3/2020 0:00:00|     20| 11/3/2020 0:00:00|                           5|   ANTIOQUIA|                     5001|     MEDELLIN|  26|                 1|   F|  Relacionado|          Casa|  Leve|           NULL|                NULL|Recuperado|     9/3/2020 0:00:00|        NULL|14/3/2020 0:00:00| 24/3/2020 0:00:00|              PCR|                 6|               NULL|        true|\n+-----------------+-------+------------------+----------------------------+------------+-------------------------+-------------+----+------------------+----+-------------+--------------+------+---------------+--------------------+----------+---------------------+------------+-----------------+------------------+-----------------+------------------+-------------------+------------+\nonly showing top 20 rows",
          "name": "stdout"
        }
      ]
    },
    {
      "metadata": {
        "colab": {
          "base_uri": "https://localhost:8080/",
          "referenced_widgets": [
            ""
          ]
        },
        "id": "emIt8SKBSJyk",
        "outputId": "02681a4f-eb20-411e-ddfc-a7865bd4f537",
        "trusted": true
      },
      "cell_type": "code",
      "source": [
        "# Delete Column\n",
        "df = df.drop(\"adulto_mayor\")\n",
        "df.show()"
      ],
      "execution_count": null,
      "outputs": [
        {
          "output_type": "display_data",
          "data": {
            "text/plain": "FloatProgress(value=0.0, bar_style='info', description='Progress:', layout=Layout(height='25px', width='50%'),…",
            "application/vnd.jupyter.widget-view+json": {
              "version_major": 2,
              "version_minor": 0,
              "model_id": ""
            }
          },
          "metadata": {}
        },
        {
          "output_type": "stream",
          "text": "+-----------------+-------+------------------+----------------------------+------------+-------------------------+-------------+----+------------------+----+-------------+--------------+------+---------------+--------------------+----------+---------------------+------------+-----------------+------------------+-----------------+------------------+-------------------+\n|fecha_reporte_web|id_caso|fecha_notificación|codigo_divipola_departamento|departamento|codigo_divipola_municipio|    municipio|edad|unidad_medida_edad|sexo|tipo_contagio|ubicacion_caso|estado|codigo_iso_pais|                pais|recuperado|fecha_inicio_sintomas|fecha_muerte|fecha_diagnostico|fecha_recuperacion|tipo_recuperacion|pertenencia_etnica|nombre_grupo_etnico|\n+-----------------+-------+------------------+----------------------------+------------+-------------------------+-------------+----+------------------+----+-------------+--------------+------+---------------+--------------------+----------+---------------------+------------+-----------------+------------------+-----------------+------------------+-------------------+\n| 6/3/2020 0:00:00|      1|  2/3/2020 0:00:00|                          11|      BOGOTA|                    11001|       BOGOTA|  19|                 1|   F|    Importado|          Casa|  Leve|            380|              ITALIA|Recuperado|    27/2/2020 0:00:00|        NULL| 6/3/2020 0:00:00| 13/3/2020 0:00:00|              PCR|                 6|               NULL|\n| 9/3/2020 0:00:00|      2|  6/3/2020 0:00:00|                          76|       VALLE|                    76111|         BUGA|  34|                 1|   M|    Importado|          Casa|  Leve|            724|              ESPAÑA|Recuperado|     4/3/2020 0:00:00|        NULL| 9/3/2020 0:00:00| 19/3/2020 0:00:00|              PCR|                 5|               NULL|\n| 9/3/2020 0:00:00|      3|  7/3/2020 0:00:00|                           5|   ANTIOQUIA|                     5001|     MEDELLIN|  50|                 1|   F|    Importado|          Casa|  Leve|            724|              ESPAÑA|Recuperado|    29/2/2020 0:00:00|        NULL| 9/3/2020 0:00:00| 15/3/2020 0:00:00|              PCR|                 6|               NULL|\n|11/3/2020 0:00:00|      4|  9/3/2020 0:00:00|                           5|   ANTIOQUIA|                     5001|     MEDELLIN|  55|                 1|   M|  Relacionado|          Casa|  Leve|           NULL|                NULL|Recuperado|     6/3/2020 0:00:00|        NULL|11/3/2020 0:00:00| 26/3/2020 0:00:00|              PCR|                 6|               NULL|\n|11/3/2020 0:00:00|      5|  9/3/2020 0:00:00|                           5|   ANTIOQUIA|                     5001|     MEDELLIN|  25|                 1|   M|  Relacionado|          Casa|  Leve|           NULL|                NULL|Recuperado|     8/3/2020 0:00:00|        NULL|11/3/2020 0:00:00| 23/3/2020 0:00:00|              PCR|                 6|               NULL|\n|11/3/2020 0:00:00|      6| 10/3/2020 0:00:00|                           5|   ANTIOQUIA|                     5360|       ITAGUI|  27|                 1|   F|  Relacionado|          Casa|  Leve|           NULL|                NULL|Recuperado|     6/3/2020 0:00:00|        NULL|11/3/2020 0:00:00| 26/3/2020 0:00:00|              PCR|                 6|               NULL|\n|11/3/2020 0:00:00|      7|  8/3/2020 0:00:00|                       13001|   CARTAGENA|                    13001|    CARTAGENA|  85|                 1|   F|    Importado|          Casa|  Leve|            840|ESTADOS UNIDOS DE...|Recuperado|     2/3/2020 0:00:00|        NULL|11/3/2020 0:00:00| 17/3/2020 0:00:00|              PCR|                 6|               NULL|\n|11/3/2020 0:00:00|      8|  9/3/2020 0:00:00|                          11|      BOGOTA|                    11001|       BOGOTA|  22|                 1|   F|    Importado|          Casa|  Leve|            724|              ESPAÑA|Recuperado|     6/3/2020 0:00:00|        NULL|11/3/2020 0:00:00| 21/3/2020 0:00:00|              PCR|                 6|               NULL|\n|11/3/2020 0:00:00|      9|  8/3/2020 0:00:00|                          11|      BOGOTA|                    11001|       BOGOTA|  28|                 1|   F|    Importado|          Casa|  Leve|            724|              ESPAÑA|Recuperado|     7/3/2020 0:00:00|        NULL|11/3/2020 0:00:00| 23/3/2020 0:00:00|              PCR|                 6|               NULL|\n|12/3/2020 0:00:00|     10| 12/3/2020 0:00:00|                          11|      BOGOTA|                    11001|       BOGOTA|  36|                 1|   F|    Importado|          Casa|  Leve|            724|              ESPAÑA|Recuperado|     6/3/2020 0:00:00|        NULL|12/3/2020 0:00:00| 21/3/2020 0:00:00|              PCR|                 6|               NULL|\n|12/3/2020 0:00:00|     11| 11/3/2020 0:00:00|                          11|      BOGOTA|                    11001|       BOGOTA|  42|                 1|   F|    Importado|          Casa|  Leve|            724|              ESPAÑA|Recuperado|     6/3/2020 0:00:00|        NULL|12/3/2020 0:00:00| 31/3/2020 0:00:00|              PCR|                 6|               NULL|\n|12/3/2020 0:00:00|     12| 10/3/2020 0:00:00|                          41|       HUILA|                    41001|        NEIVA|  74|                 1|   F|    Importado|          Casa|  Leve|            380|              ITALIA|Recuperado|     6/3/2020 0:00:00|        NULL|12/3/2020 0:00:00|  9/4/2020 0:00:00|              PCR|                 6|               NULL|\n|12/3/2020 0:00:00|     13| 10/3/2020 0:00:00|                          41|       HUILA|                    41001|        NEIVA|  68|                 1|   F|  Relacionado|          Casa|  Leve|           NULL|                NULL|Recuperado|     6/3/2020 0:00:00|        NULL|12/3/2020 0:00:00| 30/3/2020 0:00:00|              PCR|                 6|               NULL|\n|13/3/2020 0:00:00|     14| 10/3/2020 0:00:00|                          76|       VALLE|                    76520|      PALMIRA|  48|                 1|   M|    Importado|          Casa|  Leve|            724|              ESPAÑA|Recuperado|     7/3/2020 0:00:00|        NULL|13/3/2020 0:00:00| 21/3/2020 0:00:00|              PCR|                 5|               NULL|\n|13/3/2020 0:00:00|     15| 13/3/2020 0:00:00|                          50|        META|                    50001|VILLAVICENCIO|  30|                 1|   F|    Importado|          Casa|  Leve|            724|              ESPAÑA|Recuperado|     9/3/2020 0:00:00|        NULL|13/3/2020 0:00:00| 23/3/2020 0:00:00|              PCR|                 6|               NULL|\n|13/3/2020 0:00:00|     16| 11/3/2020 0:00:00|                          11|      BOGOTA|                    11001|       BOGOTA|  61|                 1|   F|    Importado|          Casa|  Leve|            380|              ITALIA|Recuperado|     8/3/2020 0:00:00|        NULL|13/3/2020 0:00:00| 23/3/2020 0:00:00|              PCR|                 5|               NULL|\n|14/3/2020 0:00:00|     17| 11/3/2020 0:00:00|                          11|      BOGOTA|                    11001|       BOGOTA|  73|                 1|   F|    Importado|          Casa|  Leve|            724|              ESPAÑA|Recuperado|    28/2/2020 0:00:00|        NULL|14/3/2020 0:00:00| 14/3/2020 0:00:00|              PCR|                 6|               NULL|\n|14/3/2020 0:00:00|     18| 11/3/2020 0:00:00|                          11|      BOGOTA|                    11001|       BOGOTA|  54|                 1|   M|    Importado|          Casa|  Leve|            724|              ESPAÑA|Recuperado|     7/3/2020 0:00:00|        NULL|14/3/2020 0:00:00|  7/4/2020 0:00:00|           Tiempo|                 6|               NULL|\n|14/3/2020 0:00:00|     19| 12/3/2020 0:00:00|                          11|      BOGOTA|                    11001|       BOGOTA|  54|                 1|   F|  Relacionado|          Casa|  Leve|           NULL|                NULL|Recuperado|     9/3/2020 0:00:00|        NULL|14/3/2020 0:00:00| 24/3/2020 0:00:00|              PCR|                 6|               NULL|\n|14/3/2020 0:00:00|     20| 11/3/2020 0:00:00|                           5|   ANTIOQUIA|                     5001|     MEDELLIN|  26|                 1|   F|  Relacionado|          Casa|  Leve|           NULL|                NULL|Recuperado|     9/3/2020 0:00:00|        NULL|14/3/2020 0:00:00| 24/3/2020 0:00:00|              PCR|                 6|               NULL|\n+-----------------+-------+------------------+----------------------------+------------+-------------------------+-------------+----+------------------+----+-------------+--------------+------+---------------+--------------------+----------+---------------------+------------+-----------------+------------------+-----------------+------------------+-------------------+\nonly showing top 20 rows",
          "name": "stdout"
        }
      ]
    },
    {
      "metadata": {
        "colab": {
          "base_uri": "https://localhost:8080/",
          "referenced_widgets": [
            ""
          ]
        },
        "id": "Hcgri9FHlymA",
        "outputId": "5cfcf2a5-1cf5-4ad6-9921-e8bd6c6b41de",
        "trusted": true
      },
      "cell_type": "code",
      "source": [
        "df.filter(df['departamento'] =='ANTIOQUIA').show()"
      ],
      "execution_count": null,
      "outputs": [
        {
          "output_type": "display_data",
          "data": {
            "text/plain": "FloatProgress(value=0.0, bar_style='info', description='Progress:', layout=Layout(height='25px', width='50%'),…",
            "application/vnd.jupyter.widget-view+json": {
              "version_major": 2,
              "version_minor": 0,
              "model_id": ""
            }
          },
          "metadata": {}
        },
        {
          "output_type": "stream",
          "text": "+-----------------+-------+------------------+----------------------------+------------+-------------------------+-----------+----+------------------+----+-------------+--------------+------+---------------+--------------------+----------+---------------------+------------+-----------------+------------------+-----------------+------------------+-------------------+\n|fecha_reporte_web|id_caso|fecha_notificación|codigo_divipola_departamento|departamento|codigo_divipola_municipio|  municipio|edad|unidad_medida_edad|sexo|tipo_contagio|ubicacion_caso|estado|codigo_iso_pais|                pais|recuperado|fecha_inicio_sintomas|fecha_muerte|fecha_diagnostico|fecha_recuperacion|tipo_recuperacion|pertenencia_etnica|nombre_grupo_etnico|\n+-----------------+-------+------------------+----------------------------+------------+-------------------------+-----------+----+------------------+----+-------------+--------------+------+---------------+--------------------+----------+---------------------+------------+-----------------+------------------+-----------------+------------------+-------------------+\n| 9/3/2020 0:00:00|      3|  7/3/2020 0:00:00|                           5|   ANTIOQUIA|                     5001|   MEDELLIN|  50|                 1|   F|    Importado|          Casa|  Leve|            724|              ESPAÑA|Recuperado|    29/2/2020 0:00:00|        NULL| 9/3/2020 0:00:00| 15/3/2020 0:00:00|              PCR|                 6|               NULL|\n|11/3/2020 0:00:00|      4|  9/3/2020 0:00:00|                           5|   ANTIOQUIA|                     5001|   MEDELLIN|  55|                 1|   M|  Relacionado|          Casa|  Leve|           NULL|                NULL|Recuperado|     6/3/2020 0:00:00|        NULL|11/3/2020 0:00:00| 26/3/2020 0:00:00|              PCR|                 6|               NULL|\n|11/3/2020 0:00:00|      5|  9/3/2020 0:00:00|                           5|   ANTIOQUIA|                     5001|   MEDELLIN|  25|                 1|   M|  Relacionado|          Casa|  Leve|           NULL|                NULL|Recuperado|     8/3/2020 0:00:00|        NULL|11/3/2020 0:00:00| 23/3/2020 0:00:00|              PCR|                 6|               NULL|\n|11/3/2020 0:00:00|      6| 10/3/2020 0:00:00|                           5|   ANTIOQUIA|                     5360|     ITAGUI|  27|                 1|   F|  Relacionado|          Casa|  Leve|           NULL|                NULL|Recuperado|     6/3/2020 0:00:00|        NULL|11/3/2020 0:00:00| 26/3/2020 0:00:00|              PCR|                 6|               NULL|\n|14/3/2020 0:00:00|     20| 11/3/2020 0:00:00|                           5|   ANTIOQUIA|                     5001|   MEDELLIN|  26|                 1|   F|  Relacionado|          Casa|  Leve|           NULL|                NULL|Recuperado|     9/3/2020 0:00:00|        NULL|14/3/2020 0:00:00| 24/3/2020 0:00:00|              PCR|                 6|               NULL|\n|14/3/2020 0:00:00|     21| 11/3/2020 0:00:00|                           5|   ANTIOQUIA|                     5001|   MEDELLIN|  28|                 1|   M|  Relacionado|          Casa|  Leve|           NULL|                NULL|Recuperado|    10/3/2020 0:00:00|        NULL|14/3/2020 0:00:00| 10/4/2020 0:00:00|              PCR|                 6|               NULL|\n|14/3/2020 0:00:00|     22| 12/3/2020 0:00:00|                           5|   ANTIOQUIA|                     5615|   RIONEGRO|  36|                 1|   M|    Importado|          Casa|  Leve|            840|ESTADOS UNIDOS DE...|Recuperado|     9/3/2020 0:00:00|        NULL|14/3/2020 0:00:00| 24/3/2020 0:00:00|              PCR|                 6|               NULL|\n|15/3/2020 0:00:00|     32| 11/3/2020 0:00:00|                           5|   ANTIOQUIA|                     5001|   MEDELLIN|  55|                 1|   M|    Importado|          Casa|  Leve|            724|              ESPAÑA|Recuperado|    10/3/2020 0:00:00|        NULL|15/3/2020 0:00:00| 25/3/2020 0:00:00|              PCR|                 6|               NULL|\n|19/3/2020 0:00:00|    106| 19/3/2020 0:00:00|                           5|   ANTIOQUIA|                     5001|   MEDELLIN|  44|                 1|   M|    Importado|          Casa|  Leve|            724|              ESPAÑA|Recuperado|    13/3/2020 0:00:00|        NULL|19/3/2020 0:00:00| 28/3/2020 0:00:00|              PCR|                 6|               NULL|\n|19/3/2020 0:00:00|    107| 12/3/2020 0:00:00|                           5|   ANTIOQUIA|                     5001|   MEDELLIN|  56|                 1|   M|    Importado|          Casa|  Leve|            724|              ESPAÑA|Recuperado|    10/3/2020 0:00:00|        NULL|19/3/2020 0:00:00| 30/3/2020 0:00:00|              PCR|                 6|               NULL|\n|19/3/2020 0:00:00|    108| 17/3/2020 0:00:00|                           5|   ANTIOQUIA|                     5001|   MEDELLIN|  57|                 1|   F|    Importado|          Casa|  Leve|            724|              ESPAÑA|Recuperado|    14/3/2020 0:00:00|        NULL|19/3/2020 0:00:00| 28/3/2020 0:00:00|              PCR|                 6|               NULL|\n|20/3/2020 0:00:00|    131| 15/3/2020 0:00:00|                           5|   ANTIOQUIA|                     5001|   MEDELLIN|  22|                 1|   F|    Importado|          Casa|  Leve|            724|              ESPAÑA|Recuperado|    13/3/2020 0:00:00|        NULL|20/3/2020 0:00:00| 28/3/2020 0:00:00|              PCR|                 6|               NULL|\n|20/3/2020 0:00:00|    133| 16/3/2020 0:00:00|                           5|   ANTIOQUIA|                     5615|   RIONEGRO|  51|                 1|   M|  Relacionado|          Casa|  Leve|           NULL|                NULL|Recuperado|    10/3/2020 0:00:00|        NULL|20/3/2020 0:00:00| 25/3/2020 0:00:00|              PCR|                 6|               NULL|\n|20/3/2020 0:00:00|    134| 17/3/2020 0:00:00|                           5|   ANTIOQUIA|                     5380|LA ESTRELLA|  28|                 1|   M|  Relacionado|          Casa|  Leve|           NULL|                NULL|Recuperado|                 NULL|        NULL|20/3/2020 0:00:00|  3/4/2020 0:00:00|              PCR|                 6|               NULL|\n|20/3/2020 0:00:00|    135| 17/3/2020 0:00:00|                           5|   ANTIOQUIA|                     5001|   MEDELLIN|  44|                 1|   F|    Importado|          Casa|  Leve|            276|            ALEMANIA|Recuperado|    16/3/2020 0:00:00|        NULL|20/3/2020 0:00:00|  1/4/2020 0:00:00|              PCR|                 6|               NULL|\n|20/3/2020 0:00:00|    136| 17/3/2020 0:00:00|                           5|   ANTIOQUIA|                     5001|   MEDELLIN|  37|                 1|   M|  Relacionado|          Casa|  Leve|           NULL|                NULL|Recuperado|    13/3/2020 0:00:00|        NULL|20/3/2020 0:00:00| 13/4/2020 0:00:00|              PCR|                 6|               NULL|\n|20/3/2020 0:00:00|    137| 17/3/2020 0:00:00|                           5|   ANTIOQUIA|                     5266|   ENVIGADO|  54|                 1|   M|    Importado|          Casa|  Leve|            724|              ESPAÑA|Recuperado|                 NULL|        NULL|20/3/2020 0:00:00|  3/4/2020 0:00:00|              PCR|                 6|               NULL|\n|20/3/2020 0:00:00|    141| 17/3/2020 0:00:00|                           5|   ANTIOQUIA|                     5001|   MEDELLIN|  62|                 1|   F|    Importado|          Casa|  Leve|            191|             CROACIA|Recuperado|    10/3/2020 0:00:00|        NULL|20/3/2020 0:00:00| 25/3/2020 0:00:00|              PCR|                 6|               NULL|\n|20/3/2020 0:00:00|    142| 20/3/2020 0:00:00|                           5|   ANTIOQUIA|                     5001|   MEDELLIN|  35|                 1|   F|    Importado|          Casa|  Leve|            591|              PANAMA|Recuperado|    14/3/2020 0:00:00|        NULL|20/3/2020 0:00:00| 29/3/2020 0:00:00|              PCR|                 6|               NULL|\n|20/3/2020 0:00:00|    143| 14/3/2020 0:00:00|                           5|   ANTIOQUIA|                     5266|   ENVIGADO|  46|                 1|   M|    Importado|          Casa|  Leve|            724|              ESPAÑA|Recuperado|    11/3/2020 0:00:00|        NULL|20/3/2020 0:00:00|  1/8/2020 0:00:00|              PCR|                 6|               NULL|\n+-----------------+-------+------------------+----------------------------+------------+-------------------------+-----------+----+------------------+----+-------------+--------------+------+---------------+--------------------+----------+---------------------+------------+-----------------+------------------+-----------------+------------------+-------------------+\nonly showing top 20 rows",
          "name": "stdout"
        }
      ]
    },
    {
      "metadata": {
        "colab": {
          "base_uri": "https://localhost:8080/",
          "referenced_widgets": [
            ""
          ]
        },
        "id": "Z6mXiOrdlymA",
        "outputId": "92730b9d-f140-4fe3-a910-b056fdb14bef",
        "trusted": true
      },
      "cell_type": "code",
      "source": [
        "#filter the records\n",
        "df.filter(df['departamento'] =='ANTIOQUIA').select('tipo_contagio', 'estado', 'tipo_recuperacion').show(10)"
      ],
      "execution_count": null,
      "outputs": [
        {
          "output_type": "display_data",
          "data": {
            "text/plain": "FloatProgress(value=0.0, bar_style='info', description='Progress:', layout=Layout(height='25px', width='50%'),…",
            "application/vnd.jupyter.widget-view+json": {
              "version_major": 2,
              "version_minor": 0,
              "model_id": ""
            }
          },
          "metadata": {}
        },
        {
          "output_type": "stream",
          "text": "+-------------+------+-----------------+\n|tipo_contagio|estado|tipo_recuperacion|\n+-------------+------+-----------------+\n|    Importado|  Leve|              PCR|\n|  Relacionado|  Leve|              PCR|\n|  Relacionado|  Leve|              PCR|\n|  Relacionado|  Leve|              PCR|\n|  Relacionado|  Leve|              PCR|\n|  Relacionado|  Leve|              PCR|\n|    Importado|  Leve|              PCR|\n|    Importado|  Leve|              PCR|\n|    Importado|  Leve|              PCR|\n|    Importado|  Leve|              PCR|\n+-------------+------+-----------------+\nonly showing top 10 rows",
          "name": "stdout"
        }
      ]
    },
    {
      "metadata": {
        "colab": {
          "base_uri": "https://localhost:8080/",
          "referenced_widgets": [
            ""
          ]
        },
        "id": "5AeycScTlymA",
        "outputId": "7bd83496-38e1-4df8-f9b9-e4e98b9f0922",
        "trusted": true
      },
      "cell_type": "code",
      "source": [
        "#filter the multiple conditions\n",
        "df.filter((df['departamento'] =='ANTIOQUIA') & (df['edad'] > 40)).show()"
      ],
      "execution_count": null,
      "outputs": [
        {
          "output_type": "display_data",
          "data": {
            "text/plain": "FloatProgress(value=0.0, bar_style='info', description='Progress:', layout=Layout(height='25px', width='50%'),…",
            "application/vnd.jupyter.widget-view+json": {
              "version_major": 2,
              "version_minor": 0,
              "model_id": ""
            }
          },
          "metadata": {}
        },
        {
          "output_type": "stream",
          "text": "+-----------------+-------+------------------+----------------------------+------------+-------------------------+---------+----+------------------+----+-------------+--------------+------+---------------+--------------------+----------+---------------------+------------+-----------------+------------------+-----------------+------------------+-------------------+\n|fecha_reporte_web|id_caso|fecha_notificación|codigo_divipola_departamento|departamento|codigo_divipola_municipio|municipio|edad|unidad_medida_edad|sexo|tipo_contagio|ubicacion_caso|estado|codigo_iso_pais|                pais|recuperado|fecha_inicio_sintomas|fecha_muerte|fecha_diagnostico|fecha_recuperacion|tipo_recuperacion|pertenencia_etnica|nombre_grupo_etnico|\n+-----------------+-------+------------------+----------------------------+------------+-------------------------+---------+----+------------------+----+-------------+--------------+------+---------------+--------------------+----------+---------------------+------------+-----------------+------------------+-----------------+------------------+-------------------+\n| 9/3/2020 0:00:00|      3|  7/3/2020 0:00:00|                           5|   ANTIOQUIA|                     5001| MEDELLIN|  50|                 1|   F|    Importado|          Casa|  Leve|            724|              ESPAÑA|Recuperado|    29/2/2020 0:00:00|        NULL| 9/3/2020 0:00:00| 15/3/2020 0:00:00|              PCR|                 6|               NULL|\n|11/3/2020 0:00:00|      4|  9/3/2020 0:00:00|                           5|   ANTIOQUIA|                     5001| MEDELLIN|  55|                 1|   M|  Relacionado|          Casa|  Leve|           NULL|                NULL|Recuperado|     6/3/2020 0:00:00|        NULL|11/3/2020 0:00:00| 26/3/2020 0:00:00|              PCR|                 6|               NULL|\n|15/3/2020 0:00:00|     32| 11/3/2020 0:00:00|                           5|   ANTIOQUIA|                     5001| MEDELLIN|  55|                 1|   M|    Importado|          Casa|  Leve|            724|              ESPAÑA|Recuperado|    10/3/2020 0:00:00|        NULL|15/3/2020 0:00:00| 25/3/2020 0:00:00|              PCR|                 6|               NULL|\n|19/3/2020 0:00:00|    106| 19/3/2020 0:00:00|                           5|   ANTIOQUIA|                     5001| MEDELLIN|  44|                 1|   M|    Importado|          Casa|  Leve|            724|              ESPAÑA|Recuperado|    13/3/2020 0:00:00|        NULL|19/3/2020 0:00:00| 28/3/2020 0:00:00|              PCR|                 6|               NULL|\n|19/3/2020 0:00:00|    107| 12/3/2020 0:00:00|                           5|   ANTIOQUIA|                     5001| MEDELLIN|  56|                 1|   M|    Importado|          Casa|  Leve|            724|              ESPAÑA|Recuperado|    10/3/2020 0:00:00|        NULL|19/3/2020 0:00:00| 30/3/2020 0:00:00|              PCR|                 6|               NULL|\n|19/3/2020 0:00:00|    108| 17/3/2020 0:00:00|                           5|   ANTIOQUIA|                     5001| MEDELLIN|  57|                 1|   F|    Importado|          Casa|  Leve|            724|              ESPAÑA|Recuperado|    14/3/2020 0:00:00|        NULL|19/3/2020 0:00:00| 28/3/2020 0:00:00|              PCR|                 6|               NULL|\n|20/3/2020 0:00:00|    133| 16/3/2020 0:00:00|                           5|   ANTIOQUIA|                     5615| RIONEGRO|  51|                 1|   M|  Relacionado|          Casa|  Leve|           NULL|                NULL|Recuperado|    10/3/2020 0:00:00|        NULL|20/3/2020 0:00:00| 25/3/2020 0:00:00|              PCR|                 6|               NULL|\n|20/3/2020 0:00:00|    135| 17/3/2020 0:00:00|                           5|   ANTIOQUIA|                     5001| MEDELLIN|  44|                 1|   F|    Importado|          Casa|  Leve|            276|            ALEMANIA|Recuperado|    16/3/2020 0:00:00|        NULL|20/3/2020 0:00:00|  1/4/2020 0:00:00|              PCR|                 6|               NULL|\n|20/3/2020 0:00:00|    137| 17/3/2020 0:00:00|                           5|   ANTIOQUIA|                     5266| ENVIGADO|  54|                 1|   M|    Importado|          Casa|  Leve|            724|              ESPAÑA|Recuperado|                 NULL|        NULL|20/3/2020 0:00:00|  3/4/2020 0:00:00|              PCR|                 6|               NULL|\n|20/3/2020 0:00:00|    141| 17/3/2020 0:00:00|                           5|   ANTIOQUIA|                     5001| MEDELLIN|  62|                 1|   F|    Importado|          Casa|  Leve|            191|             CROACIA|Recuperado|    10/3/2020 0:00:00|        NULL|20/3/2020 0:00:00| 25/3/2020 0:00:00|              PCR|                 6|               NULL|\n|20/3/2020 0:00:00|    143| 14/3/2020 0:00:00|                           5|   ANTIOQUIA|                     5266| ENVIGADO|  46|                 1|   M|    Importado|          Casa|  Leve|            724|              ESPAÑA|Recuperado|    11/3/2020 0:00:00|        NULL|20/3/2020 0:00:00|  1/8/2020 0:00:00|              PCR|                 6|               NULL|\n|20/3/2020 0:00:00|    144| 20/3/2020 0:00:00|                           5|   ANTIOQUIA|                     5001| MEDELLIN|  41|                 1|   M|    Importado|          Casa|  Leve|            591|              PANAMA|Recuperado|    14/3/2020 0:00:00|        NULL|20/3/2020 0:00:00|  5/4/2020 0:00:00|              PCR|                 6|               NULL|\n|22/3/2020 0:00:00|    236| 19/3/2020 0:00:00|                           5|   ANTIOQUIA|                     5321|  GUATAPE|  52|                 1|   M|  Relacionado|          Casa|  Leve|           NULL|                NULL|Recuperado|    10/3/2020 0:00:00|        NULL|22/3/2020 0:00:00| 25/3/2020 0:00:00|              PCR|                 6|               NULL|\n|22/3/2020 0:00:00|    238| 16/3/2020 0:00:00|                           5|   ANTIOQUIA|                     5001| MEDELLIN|  61|                 1|   F|    Importado|          Casa|  Leve|            724|              ESPAÑA|Recuperado|    14/3/2020 0:00:00|        NULL|22/3/2020 0:00:00| 11/4/2020 0:00:00|           Tiempo|                 6|               NULL|\n|22/3/2020 0:00:00|    239| 16/3/2020 0:00:00|                           5|   ANTIOQUIA|                     5615| RIONEGRO|  41|                 1|   M|    Importado|          Casa|  Leve|            724|              ESPAÑA|Recuperado|    14/3/2020 0:00:00|        NULL|22/3/2020 0:00:00| 29/3/2020 0:00:00|              PCR|                 6|               NULL|\n|22/3/2020 0:00:00|    240| 18/3/2020 0:00:00|                           5|   ANTIOQUIA|                     5088|    BELLO|  41|                 1|   M|    Importado|          Casa|  Leve|            724|              ESPAÑA|Recuperado|     9/3/2020 0:00:00|        NULL|22/3/2020 0:00:00| 25/4/2020 0:00:00|              PCR|                 6|               NULL|\n|23/3/2020 0:00:00|    263| 21/3/2020 0:00:00|                           5|   ANTIOQUIA|                     5001| MEDELLIN|  59|                 1|   M|    Importado|          Casa|  Leve|            724|              ESPAÑA|Recuperado|    16/3/2020 0:00:00|        NULL|23/3/2020 0:00:00| 30/3/2020 0:00:00|              PCR|                 6|               NULL|\n|23/3/2020 0:00:00|    272| 18/3/2020 0:00:00|                           5|   ANTIOQUIA|                     5001| MEDELLIN|  47|                 1|   F|    Importado|          Casa|  Leve|            724|              ESPAÑA|Recuperado|    14/3/2020 0:00:00|        NULL|23/3/2020 0:00:00| 29/3/2020 0:00:00|              PCR|                 6|               NULL|\n|23/3/2020 0:00:00|    273| 19/3/2020 0:00:00|                           5|   ANTIOQUIA|                     5001| MEDELLIN|  87|                 1|   M|    Importado|          Casa|  Leve|            591|              PANAMA|Recuperado|    11/3/2020 0:00:00|        NULL|23/3/2020 0:00:00| 19/4/2020 0:00:00|              PCR|                 6|               NULL|\n|23/3/2020 0:00:00|    292| 19/3/2020 0:00:00|                           5|   ANTIOQUIA|                     5001| MEDELLIN|  43|                 1|   F|    Importado|          Casa|  Leve|            840|ESTADOS UNIDOS DE...|Recuperado|    15/3/2020 0:00:00|        NULL|23/3/2020 0:00:00| 29/3/2020 0:00:00|              PCR|                 6|               NULL|\n+-----------------+-------+------------------+----------------------------+------------+-------------------------+---------+----+------------------+----+-------------+--------------+------+---------------+--------------------+----------+---------------------+------------+-----------------+------------------+-----------------+------------------+-------------------+\nonly showing top 20 rows",
          "name": "stdout"
        }
      ]
    },
    {
      "metadata": {
        "colab": {
          "base_uri": "https://localhost:8080/",
          "referenced_widgets": [
            ""
          ]
        },
        "id": "wH5eholJlymA",
        "outputId": "ad319269-268c-432c-a01c-dd4fc61d384b",
        "trusted": true
      },
      "cell_type": "code",
      "source": [
        "#Distinct Values in a column\n",
        "df.select('codigo_iso_pais').distinct().show(10)"
      ],
      "execution_count": null,
      "outputs": [
        {
          "output_type": "display_data",
          "data": {
            "text/plain": "FloatProgress(value=0.0, bar_style='info', description='Progress:', layout=Layout(height='25px', width='50%'),…",
            "application/vnd.jupyter.widget-view+json": {
              "version_major": 2,
              "version_minor": 0,
              "model_id": ""
            }
          },
          "metadata": {}
        },
        {
          "output_type": "stream",
          "text": "+---------------+\n|codigo_iso_pais|\n+---------------+\n|           NULL|\n|            756|\n|            300|\n|             76|\n|            192|\n|            250|\n|            840|\n|            191|\n|            484|\n|            531|\n+---------------+\nonly showing top 10 rows",
          "name": "stdout"
        }
      ]
    },
    {
      "metadata": {
        "colab": {
          "base_uri": "https://localhost:8080/",
          "referenced_widgets": [
            ""
          ]
        },
        "id": "VVgwJGWolymA",
        "outputId": "4f9b6489-7823-45fb-be9f-bea3a4e4e1df",
        "trusted": true
      },
      "cell_type": "code",
      "source": [
        "#distinct value count\n",
        "df.select('codigo_iso_pais').distinct().count()"
      ],
      "execution_count": null,
      "outputs": [
        {
          "output_type": "display_data",
          "data": {
            "text/plain": "FloatProgress(value=0.0, bar_style='info', description='Progress:', layout=Layout(height='25px', width='50%'),…",
            "application/vnd.jupyter.widget-view+json": {
              "version_major": 2,
              "version_minor": 0,
              "model_id": ""
            }
          },
          "metadata": {}
        },
        {
          "output_type": "stream",
          "text": "44",
          "name": "stdout"
        }
      ]
    },
    {
      "metadata": {
        "colab": {
          "base_uri": "https://localhost:8080/",
          "referenced_widgets": [
            ""
          ]
        },
        "id": "5Ej1sKuClymA",
        "outputId": "ac306ceb-678c-4131-c24b-b5db72da6ddd",
        "trusted": true
      },
      "cell_type": "code",
      "source": [
        "df.groupBy('codigo_iso_pais').count().show(5, False)"
      ],
      "execution_count": null,
      "outputs": [
        {
          "output_type": "display_data",
          "data": {
            "text/plain": "FloatProgress(value=0.0, bar_style='info', description='Progress:', layout=Layout(height='25px', width='50%'),…",
            "application/vnd.jupyter.widget-view+json": {
              "version_major": 2,
              "version_minor": 0,
              "model_id": ""
            }
          },
          "metadata": {}
        },
        {
          "output_type": "stream",
          "text": "+---------------+-----+\n|codigo_iso_pais|count|\n+---------------+-----+\n|NULL           |99088|\n|756            |1    |\n|784            |1    |\n|792            |27   |\n|818            |11   |\n+---------------+-----+\nonly showing top 5 rows",
          "name": "stdout"
        }
      ]
    },
    {
      "metadata": {
        "colab": {
          "base_uri": "https://localhost:8080/",
          "referenced_widgets": [
            ""
          ]
        },
        "id": "wyV9ax0IlymA",
        "outputId": "953d16b4-2ae2-4fe7-f260-002b5ef0573a",
        "trusted": true
      },
      "cell_type": "code",
      "source": [
        "# Value counts\n",
        "df.groupBy('codigo_iso_pais').count().orderBy('count', ascending=True).show(5, False)"
      ],
      "execution_count": null,
      "outputs": [
        {
          "output_type": "display_data",
          "data": {
            "text/plain": "FloatProgress(value=0.0, bar_style='info', description='Progress:', layout=Layout(height='25px', width='50%'),…",
            "application/vnd.jupyter.widget-view+json": {
              "version_major": 2,
              "version_minor": 0,
              "model_id": ""
            }
          },
          "metadata": {}
        },
        {
          "output_type": "stream",
          "text": "+---------------+-----+\n|codigo_iso_pais|count|\n+---------------+-----+\n|340            |1    |\n|320            |1    |\n|56             |1    |\n|36             |1    |\n|858            |1    |\n+---------------+-----+\nonly showing top 5 rows",
          "name": "stdout"
        }
      ]
    },
    {
      "metadata": {
        "id": "eZKNsmsElymH",
        "trusted": true,
        "colab": {
          "referenced_widgets": [
            ""
          ]
        },
        "outputId": "516fe78a-e520-40b1-bf7b-9a959b9c0f8d"
      },
      "cell_type": "code",
      "source": [
        "# saving file (csv)"
      ],
      "execution_count": null,
      "outputs": [
        {
          "output_type": "display_data",
          "data": {
            "text/plain": "FloatProgress(value=0.0, bar_style='info', description='Progress:', layout=Layout(height='25px', width='50%'),…",
            "application/vnd.jupyter.widget-view+json": {
              "version_major": 2,
              "version_minor": 0,
              "model_id": ""
            }
          },
          "metadata": {}
        }
      ]
    },
    {
      "metadata": {
        "id": "DWSPPWc6lymH",
        "trusted": true,
        "colab": {
          "referenced_widgets": [
            ""
          ]
        },
        "outputId": "7a4e9fb0-d91a-42aa-a43d-b9e95dedd353"
      },
      "cell_type": "code",
      "source": [
        "write_uri='s3a://labs/bigdata/jupyter/csv'"
      ],
      "execution_count": null,
      "outputs": [
        {
          "output_type": "display_data",
          "data": {
            "text/plain": "FloatProgress(value=0.0, bar_style='info', description='Progress:', layout=Layout(height='25px', width='50%'),…",
            "application/vnd.jupyter.widget-view+json": {
              "version_major": 2,
              "version_minor": 0,
              "model_id": ""
            }
          },
          "metadata": {}
        }
      ]
    },
    {
      "metadata": {
        "id": "fiyybAZjlymH",
        "trusted": true,
        "colab": {
          "referenced_widgets": [
            ""
          ]
        },
        "outputId": "5f0d2631-0c71-4ef7-9259-cf717e50c9ea"
      },
      "cell_type": "code",
      "source": [
        "df.coalesce(1).write.format(\"csv\").option(\"header\", \"true\").save(write_uri)"
      ],
      "execution_count": null,
      "outputs": [
        {
          "output_type": "display_data",
          "data": {
            "text/plain": "FloatProgress(value=0.0, bar_style='info', description='Progress:', layout=Layout(height='25px', width='50%'),…",
            "application/vnd.jupyter.widget-view+json": {
              "version_major": 2,
              "version_minor": 0,
              "model_id": ""
            }
          },
          "metadata": {}
        }
      ]
    }
  ],
  "metadata": {
    "kernelspec": {
      "name": "pysparkkernel",
      "display_name": "PySpark",
      "language": "python"
    },
    "language_info": {
      "name": "pyspark",
      "mimetype": "text/x-python",
      "codemirror_mode": {
        "name": "python",
        "version": 3
      },
      "file_extension": ".py",
      "pygments_lexer": "python3"
    },
    "vscode": {
      "interpreter": {
        "hash": "aee8b7b246df8f9039afb4144a1f6fd8d2ca17a180786b69acc140d282b71a49"
      }
    },
    "colab": {
      "provenance": []
    }
  },
  "nbformat": 4,
  "nbformat_minor": 0
}