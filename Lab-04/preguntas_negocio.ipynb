{
  "cells": [
    {
      "metadata": {
        "trusted": true,
        "colab": {
          "referenced_widgets": [
            ""
          ]
        },
        "id": "35ac2edb",
        "outputId": "fd843353-490d-4e2b-90f8-748208e951bc"
      },
      "id": "35ac2edb",
      "cell_type": "code",
      "source": [
        "spark"
      ],
      "execution_count": null,
      "outputs": [
        {
          "output_type": "stream",
          "text": "Starting Spark application\n",
          "name": "stdout"
        },
        {
          "output_type": "display_data",
          "data": {
            "text/plain": "<IPython.core.display.HTML object>",
            "text/html": "<table>\n<tr><th>ID</th><th>YARN Application ID</th><th>Kind</th><th>State</th><th>Spark UI</th><th>Driver log</th><th>User</th><th>Current session?</th></tr><tr><td>7</td><td>application_1731095883166_0008</td><td>pyspark</td><td>idle</td><td><a target=\"_blank\" href=\"http://ip-172-31-34-140.ec2.internal:20888/proxy/application_1731095883166_0008/\">Link</a></td><td><a target=\"_blank\" href=\"http://ip-172-31-44-163.ec2.internal:8042/node/containerlogs/container_1731095883166_0008_01_000001/livy\">Link</a></td><td>None</td><td>✔</td></tr></table>"
          },
          "metadata": {}
        },
        {
          "output_type": "display_data",
          "data": {
            "text/plain": "FloatProgress(value=0.0, bar_style='info', description='Progress:', layout=Layout(height='25px', width='50%'),…",
            "application/vnd.jupyter.widget-view+json": {
              "version_major": 2,
              "version_minor": 0,
              "model_id": ""
            }
          },
          "metadata": {}
        },
        {
          "output_type": "stream",
          "text": "SparkSession available as 'spark'.\n",
          "name": "stdout"
        },
        {
          "output_type": "display_data",
          "data": {
            "text/plain": "FloatProgress(value=0.0, bar_style='info', description='Progress:', layout=Layout(height='25px', width='50%'),…",
            "application/vnd.jupyter.widget-view+json": {
              "version_major": 2,
              "version_minor": 0,
              "model_id": ""
            }
          },
          "metadata": {}
        },
        {
          "output_type": "stream",
          "text": "<pyspark.sql.session.SparkSession object at 0x7f1b139bd640>",
          "name": "stdout"
        }
      ]
    },
    {
      "metadata": {
        "trusted": true,
        "colab": {
          "referenced_widgets": [
            ""
          ]
        },
        "id": "f1bec990",
        "outputId": "a5cd6e03-791a-4d81-f21d-2d35fedd6ad0"
      },
      "id": "f1bec990",
      "cell_type": "code",
      "source": [
        "sc"
      ],
      "execution_count": null,
      "outputs": [
        {
          "output_type": "display_data",
          "data": {
            "text/plain": "FloatProgress(value=0.0, bar_style='info', description='Progress:', layout=Layout(height='25px', width='50%'),…",
            "application/vnd.jupyter.widget-view+json": {
              "version_major": 2,
              "version_minor": 0,
              "model_id": ""
            }
          },
          "metadata": {}
        },
        {
          "output_type": "stream",
          "text": "<SparkContext master=yarn appName=livy-session-7>",
          "name": "stdout"
        }
      ]
    },
    {
      "metadata": {
        "trusted": true,
        "colab": {
          "referenced_widgets": [
            ""
          ]
        },
        "id": "faf6fae8",
        "outputId": "8aa24132-0d84-4ffc-f6b5-6048abb5a606"
      },
      "id": "faf6fae8",
      "cell_type": "code",
      "source": [
        "from pyspark.sql import SparkSession\n",
        "from pyspark.sql.functions import col, desc, count"
      ],
      "execution_count": null,
      "outputs": [
        {
          "output_type": "display_data",
          "data": {
            "text/plain": "FloatProgress(value=0.0, bar_style='info', description='Progress:', layout=Layout(height='25px', width='50%'),…",
            "application/vnd.jupyter.widget-view+json": {
              "version_major": 2,
              "version_minor": 0,
              "model_id": ""
            }
          },
          "metadata": {}
        }
      ]
    },
    {
      "metadata": {
        "trusted": true,
        "colab": {
          "referenced_widgets": [
            ""
          ]
        },
        "id": "4e559b29",
        "outputId": "25655716-b96e-4241-d403-ba428b148c9b"
      },
      "id": "4e559b29",
      "cell_type": "code",
      "source": [
        "df = spark.read.csv(\"s3://big-data-topicos/bigdata/datasets/covid19/Casos_positivos_de_COVID-19_en_Colombia-100K.csv\", header=True, inferSchema=True)\n",
        "df.createOrReplaceTempView(\"covid_data\")"
      ],
      "execution_count": null,
      "outputs": [
        {
          "output_type": "display_data",
          "data": {
            "text/plain": "FloatProgress(value=0.0, bar_style='info', description='Progress:', layout=Layout(height='25px', width='50%'),…",
            "application/vnd.jupyter.widget-view+json": {
              "version_major": 2,
              "version_minor": 0,
              "model_id": ""
            }
          },
          "metadata": {}
        }
      ]
    },
    {
      "metadata": {
        "trusted": true,
        "colab": {
          "referenced_widgets": [
            ""
          ]
        },
        "id": "2e33b584",
        "outputId": "aec2cb87-dfb4-4264-b20f-17a61eee8d5f"
      },
      "id": "2e33b584",
      "cell_type": "code",
      "source": [
        "# Los 10 departamentos con más casos de COVID en Colombia"
      ],
      "execution_count": null,
      "outputs": [
        {
          "output_type": "display_data",
          "data": {
            "text/plain": "FloatProgress(value=0.0, bar_style='info', description='Progress:', layout=Layout(height='25px', width='50%'),…",
            "application/vnd.jupyter.widget-view+json": {
              "version_major": 2,
              "version_minor": 0,
              "model_id": ""
            }
          },
          "metadata": {}
        }
      ]
    },
    {
      "metadata": {
        "trusted": true,
        "colab": {
          "referenced_widgets": [
            ""
          ]
        },
        "id": "70067e90",
        "outputId": "89dce4c2-c041-41b2-d6da-5f8c0cae4721"
      },
      "id": "70067e90",
      "cell_type": "code",
      "source": [
        "# DataFrames\n",
        "top_departments_df = df.groupBy(\"departamento\") \\\n",
        "    .agg(count(\"id_caso\").alias(\"total_casos\")) \\\n",
        "    .orderBy(desc(\"total_casos\")) \\\n",
        "    .limit(10)\n",
        "top_departments_df.show()"
      ],
      "execution_count": null,
      "outputs": [
        {
          "output_type": "display_data",
          "data": {
            "text/plain": "FloatProgress(value=0.0, bar_style='info', description='Progress:', layout=Layout(height='25px', width='50%'),…",
            "application/vnd.jupyter.widget-view+json": {
              "version_major": 2,
              "version_minor": 0,
              "model_id": ""
            }
          },
          "metadata": {}
        },
        {
          "output_type": "stream",
          "text": "+------------+-----------+\n|departamento|total_casos|\n+------------+-----------+\n|      BOGOTA|      30016|\n|BARRANQUILLA|      13065|\n|   ATLANTICO|      10994|\n|       VALLE|      10404|\n|   CARTAGENA|       8333|\n|   ANTIOQUIA|       4554|\n|      NARIÑO|       3520|\n|CUNDINAMARCA|       2827|\n|    AMAZONAS|       2317|\n|       CHOCO|       1636|\n+------------+-----------+",
          "name": "stdout"
        }
      ]
    },
    {
      "metadata": {
        "trusted": true,
        "colab": {
          "referenced_widgets": [
            ""
          ]
        },
        "id": "18d5a2a5",
        "outputId": "242e803a-5841-43f7-c8e4-b0471ea33a1c"
      },
      "id": "18d5a2a5",
      "cell_type": "code",
      "source": [
        "# Las 10 ciudades con más casos de COVID en Colombia"
      ],
      "execution_count": null,
      "outputs": [
        {
          "output_type": "display_data",
          "data": {
            "text/plain": "FloatProgress(value=0.0, bar_style='info', description='Progress:', layout=Layout(height='25px', width='50%'),…",
            "application/vnd.jupyter.widget-view+json": {
              "version_major": 2,
              "version_minor": 0,
              "model_id": ""
            }
          },
          "metadata": {}
        }
      ]
    },
    {
      "metadata": {
        "trusted": true,
        "colab": {
          "referenced_widgets": [
            ""
          ]
        },
        "id": "6a716181",
        "outputId": "ad42bac2-cf7c-433d-b6d5-3c884aa5892e"
      },
      "id": "6a716181",
      "cell_type": "code",
      "source": [
        "# DataFrame\n",
        "top_cities_df = df.groupBy(\"municipio\") \\\n",
        "    .agg(count(\"id_caso\").alias(\"total_casos\")) \\\n",
        "    .orderBy(desc(\"total_casos\")) \\\n",
        "    .limit(10)\n",
        "top_cities_df.show()"
      ],
      "execution_count": null,
      "outputs": [
        {
          "output_type": "display_data",
          "data": {
            "text/plain": "FloatProgress(value=0.0, bar_style='info', description='Progress:', layout=Layout(height='25px', width='50%'),…",
            "application/vnd.jupyter.widget-view+json": {
              "version_major": 2,
              "version_minor": 0,
              "model_id": ""
            }
          },
          "metadata": {}
        },
        {
          "output_type": "stream",
          "text": "+------------+-----------+\n|   municipio|total_casos|\n+------------+-----------+\n|      BOGOTA|      30016|\n|BARRANQUILLA|      13065|\n|   CARTAGENA|       8333|\n|        CALI|       7747|\n|     SOLEDAD|       6233|\n|     LETICIA|       2194|\n|    MEDELLIN|       2137|\n|      TUMACO|       1501|\n|BUENAVENTURA|       1453|\n|      QUIBDO|       1367|\n+------------+-----------+",
          "name": "stdout"
        }
      ]
    },
    {
      "metadata": {
        "trusted": true,
        "colab": {
          "referenced_widgets": [
            ""
          ]
        },
        "id": "8c02c41b",
        "outputId": "877dbe8a-b995-4408-a15c-88d3d24cce4f"
      },
      "id": "8c02c41b",
      "cell_type": "code",
      "source": [
        "# SparkSQL\n",
        "spark.sql(\"\"\"\n",
        "    SELECT municipio, COUNT(id_caso) AS total_casos\n",
        "    FROM covid_data\n",
        "    GROUP BY municipio\n",
        "    ORDER BY total_casos DESC\n",
        "    LIMIT 10\n",
        "\"\"\").show()"
      ],
      "execution_count": null,
      "outputs": [
        {
          "output_type": "display_data",
          "data": {
            "text/plain": "FloatProgress(value=0.0, bar_style='info', description='Progress:', layout=Layout(height='25px', width='50%'),…",
            "application/vnd.jupyter.widget-view+json": {
              "version_major": 2,
              "version_minor": 0,
              "model_id": ""
            }
          },
          "metadata": {}
        },
        {
          "output_type": "stream",
          "text": "+------------+-----------+\n|   municipio|total_casos|\n+------------+-----------+\n|      BOGOTA|      30016|\n|BARRANQUILLA|      13065|\n|   CARTAGENA|       8333|\n|        CALI|       7747|\n|     SOLEDAD|       6233|\n|     LETICIA|       2194|\n|    MEDELLIN|       2137|\n|      TUMACO|       1501|\n|BUENAVENTURA|       1453|\n|      QUIBDO|       1367|\n+------------+-----------+",
          "name": "stdout"
        }
      ]
    },
    {
      "metadata": {
        "trusted": true,
        "colab": {
          "referenced_widgets": [
            ""
          ]
        },
        "id": "bc8dae01",
        "outputId": "894926ce-a94a-4de9-a5d2-c75d96039a5a"
      },
      "id": "bc8dae01",
      "cell_type": "code",
      "source": [
        "# Los 10 días con más casos de COVID en Colombia"
      ],
      "execution_count": null,
      "outputs": [
        {
          "output_type": "display_data",
          "data": {
            "text/plain": "FloatProgress(value=0.0, bar_style='info', description='Progress:', layout=Layout(height='25px', width='50%'),…",
            "application/vnd.jupyter.widget-view+json": {
              "version_major": 2,
              "version_minor": 0,
              "model_id": ""
            }
          },
          "metadata": {}
        }
      ]
    },
    {
      "metadata": {
        "trusted": true,
        "colab": {
          "referenced_widgets": [
            ""
          ]
        },
        "id": "c113d0d3",
        "outputId": "6e377ed9-efed-460e-d12c-818fe07032aa"
      },
      "id": "c113d0d3",
      "cell_type": "code",
      "source": [
        "# DataFrames\n",
        "top_days_df = df.groupBy(\"fecha_reporte_web\") \\\n",
        "    .agg(count(\"id_caso\").alias(\"total_casos\")) \\\n",
        "    .orderBy(desc(\"total_casos\")) \\\n",
        "    .limit(10)\n",
        "top_days_df.show()"
      ],
      "execution_count": null,
      "outputs": [
        {
          "output_type": "display_data",
          "data": {
            "text/plain": "FloatProgress(value=0.0, bar_style='info', description='Progress:', layout=Layout(height='25px', width='50%'),…",
            "application/vnd.jupyter.widget-view+json": {
              "version_major": 2,
              "version_minor": 0,
              "model_id": ""
            }
          },
          "metadata": {}
        },
        {
          "output_type": "stream",
          "text": "+-----------------+-----------+\n|fecha_reporte_web|total_casos|\n+-----------------+-----------+\n|27/6/2020 0:00:00|       4149|\n|26/6/2020 0:00:00|       3843|\n|24/6/2020 0:00:00|       3541|\n|25/6/2020 0:00:00|       3486|\n|29/6/2020 0:00:00|       3274|\n|28/6/2020 0:00:00|       3178|\n|18/6/2020 0:00:00|       3171|\n|19/6/2020 0:00:00|       3059|\n|21/6/2020 0:00:00|       3019|\n|30/6/2020 0:00:00|       2803|\n+-----------------+-----------+",
          "name": "stdout"
        }
      ]
    },
    {
      "metadata": {
        "trusted": true,
        "colab": {
          "referenced_widgets": [
            ""
          ]
        },
        "id": "b1bf309a",
        "outputId": "2ff7fbad-2027-4908-c031-a14fdf4548d2"
      },
      "id": "b1bf309a",
      "cell_type": "code",
      "source": [
        "# SparkSQL\n",
        "spark.sql(\"\"\"\n",
        "    SELECT fecha_reporte_web, COUNT(id_caso) AS total_casos\n",
        "    FROM covid_data\n",
        "    GROUP BY fecha_reporte_web\n",
        "    ORDER BY total_casos DESC\n",
        "    LIMIT 10\n",
        "\"\"\").show()"
      ],
      "execution_count": null,
      "outputs": [
        {
          "output_type": "display_data",
          "data": {
            "text/plain": "FloatProgress(value=0.0, bar_style='info', description='Progress:', layout=Layout(height='25px', width='50%'),…",
            "application/vnd.jupyter.widget-view+json": {
              "version_major": 2,
              "version_minor": 0,
              "model_id": ""
            }
          },
          "metadata": {}
        },
        {
          "output_type": "stream",
          "text": "+-----------------+-----------+\n|fecha_reporte_web|total_casos|\n+-----------------+-----------+\n|27/6/2020 0:00:00|       4149|\n|26/6/2020 0:00:00|       3843|\n|24/6/2020 0:00:00|       3541|\n|25/6/2020 0:00:00|       3486|\n|29/6/2020 0:00:00|       3274|\n|28/6/2020 0:00:00|       3178|\n|18/6/2020 0:00:00|       3171|\n|19/6/2020 0:00:00|       3059|\n|21/6/2020 0:00:00|       3019|\n|30/6/2020 0:00:00|       2803|\n+-----------------+-----------+",
          "name": "stdout"
        }
      ]
    },
    {
      "metadata": {
        "trusted": true,
        "colab": {
          "referenced_widgets": [
            ""
          ]
        },
        "id": "066c6a61",
        "outputId": "fcd332ce-64f2-432a-df0c-4e8e47d22bd6"
      },
      "id": "066c6a61",
      "cell_type": "code",
      "source": [
        "# Distribución de casos por edades"
      ],
      "execution_count": null,
      "outputs": [
        {
          "output_type": "display_data",
          "data": {
            "text/plain": "FloatProgress(value=0.0, bar_style='info', description='Progress:', layout=Layout(height='25px', width='50%'),…",
            "application/vnd.jupyter.widget-view+json": {
              "version_major": 2,
              "version_minor": 0,
              "model_id": ""
            }
          },
          "metadata": {}
        }
      ]
    },
    {
      "metadata": {
        "trusted": true,
        "colab": {
          "referenced_widgets": [
            ""
          ]
        },
        "id": "f96a1e71",
        "outputId": "eefefe9a-bff5-4717-9269-9d190ba0bec1"
      },
      "id": "f96a1e71",
      "cell_type": "code",
      "source": [
        "# DataFrames\n",
        "age_distribution_df = df.groupBy(\"edad\") \\\n",
        "    .agg(count(\"id_caso\").alias(\"total_casos\")) \\\n",
        "    .orderBy(\"edad\")\n",
        "age_distribution_df.show()"
      ],
      "execution_count": null,
      "outputs": [
        {
          "output_type": "display_data",
          "data": {
            "text/plain": "FloatProgress(value=0.0, bar_style='info', description='Progress:', layout=Layout(height='25px', width='50%'),…",
            "application/vnd.jupyter.widget-view+json": {
              "version_major": 2,
              "version_minor": 0,
              "model_id": ""
            }
          },
          "metadata": {}
        },
        {
          "output_type": "stream",
          "text": "+----+-----------+\n|edad|total_casos|\n+----+-----------+\n|   1|        485|\n|   2|        440|\n|   3|        449|\n|   4|        373|\n|   5|        425|\n|   6|        431|\n|   7|        442|\n|   8|        461|\n|   9|        467|\n|  10|        530|\n|  11|        566|\n|  12|        562|\n|  13|        531|\n|  14|        580|\n|  15|        560|\n|  16|        600|\n|  17|        685|\n|  18|       1160|\n|  19|       1567|\n|  20|       1674|\n+----+-----------+\nonly showing top 20 rows",
          "name": "stdout"
        }
      ]
    },
    {
      "metadata": {
        "trusted": true,
        "colab": {
          "referenced_widgets": [
            ""
          ]
        },
        "id": "84ae2cd5",
        "outputId": "9bcc8721-179c-4ad6-887e-d27c9cdf434d"
      },
      "id": "84ae2cd5",
      "cell_type": "code",
      "source": [
        "# SparkSQL\n",
        "spark.sql(\"\"\"\n",
        "    SELECT edad, COUNT(id_caso) AS total_casos\n",
        "    FROM covid_data\n",
        "    GROUP BY edad\n",
        "    ORDER BY edad\n",
        "\"\"\").show()"
      ],
      "execution_count": null,
      "outputs": [
        {
          "output_type": "display_data",
          "data": {
            "text/plain": "FloatProgress(value=0.0, bar_style='info', description='Progress:', layout=Layout(height='25px', width='50%'),…",
            "application/vnd.jupyter.widget-view+json": {
              "version_major": 2,
              "version_minor": 0,
              "model_id": ""
            }
          },
          "metadata": {}
        },
        {
          "output_type": "stream",
          "text": "+----+-----------+\n|edad|total_casos|\n+----+-----------+\n|   1|        485|\n|   2|        440|\n|   3|        449|\n|   4|        373|\n|   5|        425|\n|   6|        431|\n|   7|        442|\n|   8|        461|\n|   9|        467|\n|  10|        530|\n|  11|        566|\n|  12|        562|\n|  13|        531|\n|  14|        580|\n|  15|        560|\n|  16|        600|\n|  17|        685|\n|  18|       1160|\n|  19|       1567|\n|  20|       1674|\n+----+-----------+\nonly showing top 20 rows",
          "name": "stdout"
        }
      ]
    },
    {
      "metadata": {
        "trusted": true,
        "colab": {
          "referenced_widgets": [
            ""
          ]
        },
        "id": "da2e6504",
        "outputId": "8ab8502a-078c-407f-8965-f1569ba6a2d9"
      },
      "id": "da2e6504",
      "cell_type": "code",
      "source": [
        "# ¿Cuántos casos hay por cada género en Colombia?"
      ],
      "execution_count": null,
      "outputs": [
        {
          "output_type": "display_data",
          "data": {
            "text/plain": "FloatProgress(value=0.0, bar_style='info', description='Progress:', layout=Layout(height='25px', width='50%'),…",
            "application/vnd.jupyter.widget-view+json": {
              "version_major": 2,
              "version_minor": 0,
              "model_id": ""
            }
          },
          "metadata": {}
        }
      ]
    },
    {
      "metadata": {
        "trusted": true,
        "colab": {
          "referenced_widgets": [
            ""
          ]
        },
        "id": "ef0eaa6a",
        "outputId": "67667cf4-8dcb-4fc9-85d7-9242d7b0db33"
      },
      "id": "ef0eaa6a",
      "cell_type": "code",
      "source": [
        "# DataFrame\n",
        "gender_distribution_df = df.groupBy(\"sexo\") \\\n",
        "    .agg(count(\"id_caso\").alias(\"total_casos\")) \\\n",
        "    .orderBy(desc(\"total_casos\"))\n",
        "gender_distribution_df.show()"
      ],
      "execution_count": null,
      "outputs": [
        {
          "output_type": "display_data",
          "data": {
            "text/plain": "FloatProgress(value=0.0, bar_style='info', description='Progress:', layout=Layout(height='25px', width='50%'),…",
            "application/vnd.jupyter.widget-view+json": {
              "version_major": 2,
              "version_minor": 0,
              "model_id": ""
            }
          },
          "metadata": {}
        },
        {
          "output_type": "stream",
          "text": "+----+-----------+\n|sexo|total_casos|\n+----+-----------+\n|   M|      54098|\n|   F|      45902|\n+----+-----------+",
          "name": "stdout"
        }
      ]
    },
    {
      "metadata": {
        "trusted": true,
        "colab": {
          "referenced_widgets": [
            ""
          ]
        },
        "id": "25a9c187",
        "outputId": "e1dab75f-5ef6-4331-b594-4612df68a0d4"
      },
      "id": "25a9c187",
      "cell_type": "code",
      "source": [
        "# Guardar los datos"
      ],
      "execution_count": null,
      "outputs": [
        {
          "output_type": "display_data",
          "data": {
            "text/plain": "FloatProgress(value=0.0, bar_style='info', description='Progress:', layout=Layout(height='25px', width='50%'),…",
            "application/vnd.jupyter.widget-view+json": {
              "version_major": 2,
              "version_minor": 0,
              "model_id": ""
            }
          },
          "metadata": {}
        }
      ]
    },
    {
      "metadata": {
        "trusted": true,
        "colab": {
          "referenced_widgets": [
            ""
          ]
        },
        "id": "44ac3566",
        "outputId": "d0217294-e471-4546-f0dc-b2df2e1c447a"
      },
      "id": "44ac3566",
      "cell_type": "code",
      "source": [
        "write_uri='s3a://labs/bigdata/output/preguntas/csv'"
      ],
      "execution_count": null,
      "outputs": [
        {
          "output_type": "display_data",
          "data": {
            "text/plain": "FloatProgress(value=0.0, bar_style='info', description='Progress:', layout=Layout(height='25px', width='50%'),…",
            "application/vnd.jupyter.widget-view+json": {
              "version_major": 2,
              "version_minor": 0,
              "model_id": ""
            }
          },
          "metadata": {}
        }
      ]
    },
    {
      "metadata": {
        "trusted": true,
        "colab": {
          "referenced_widgets": [
            ""
          ]
        },
        "id": "e6746cda",
        "outputId": "90db961a-89ad-4d32-a1d5-68502690dbf4"
      },
      "id": "e6746cda",
      "cell_type": "code",
      "source": [
        "df.coalesce(1).write.format(\"csv\").option(\"header\", \"true\").save(write_uri)"
      ],
      "execution_count": null,
      "outputs": [
        {
          "output_type": "display_data",
          "data": {
            "text/plain": "FloatProgress(value=0.0, bar_style='info', description='Progress:', layout=Layout(height='25px', width='50%'),…",
            "application/vnd.jupyter.widget-view+json": {
              "version_major": 2,
              "version_minor": 0,
              "model_id": ""
            }
          },
          "metadata": {}
        }
      ]
    }
  ],
  "metadata": {
    "kernelspec": {
      "name": "pysparkkernel",
      "display_name": "PySpark",
      "language": "python"
    },
    "language_info": {
      "name": "pyspark",
      "mimetype": "text/x-python",
      "codemirror_mode": {
        "name": "python",
        "version": 3
      },
      "file_extension": ".py",
      "pygments_lexer": "python3"
    },
    "colab": {
      "provenance": []
    }
  },
  "nbformat": 4,
  "nbformat_minor": 5
}