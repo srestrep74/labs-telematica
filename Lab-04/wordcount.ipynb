{
  "cells": [
    {
      "metadata": {
        "trusted": true,
        "id": "o0A2IDP8XtUb",
        "outputId": "6b2d9792-dd08-42f0-a154-4691d7c04834",
        "colab": {
          "referenced_widgets": [
            ""
          ]
        }
      },
      "cell_type": "code",
      "source": [
        "sc"
      ],
      "execution_count": null,
      "outputs": [
        {
          "output_type": "stream",
          "text": "Starting Spark application\n",
          "name": "stdout"
        },
        {
          "output_type": "display_data",
          "data": {
            "text/plain": "<IPython.core.display.HTML object>",
            "text/html": "<table>\n<tr><th>ID</th><th>YARN Application ID</th><th>Kind</th><th>State</th><th>Spark UI</th><th>Driver log</th><th>User</th><th>Current session?</th></tr><tr><td>9</td><td>application_1731095883166_0010</td><td>pyspark</td><td>idle</td><td><a target=\"_blank\" href=\"http://ip-172-31-34-140.ec2.internal:20888/proxy/application_1731095883166_0010/\">Link</a></td><td><a target=\"_blank\" href=\"http://ip-172-31-37-210.ec2.internal:8042/node/containerlogs/container_1731095883166_0010_01_000001/livy\">Link</a></td><td>None</td><td>✔</td></tr></table>"
          },
          "metadata": {}
        },
        {
          "output_type": "display_data",
          "data": {
            "text/plain": "FloatProgress(value=0.0, bar_style='info', description='Progress:', layout=Layout(height='25px', width='50%'),…",
            "application/vnd.jupyter.widget-view+json": {
              "version_major": 2,
              "version_minor": 0,
              "model_id": ""
            }
          },
          "metadata": {}
        },
        {
          "output_type": "stream",
          "text": "SparkSession available as 'spark'.\n",
          "name": "stdout"
        },
        {
          "output_type": "display_data",
          "data": {
            "text/plain": "FloatProgress(value=0.0, bar_style='info', description='Progress:', layout=Layout(height='25px', width='50%'),…",
            "application/vnd.jupyter.widget-view+json": {
              "version_major": 2,
              "version_minor": 0,
              "model_id": ""
            }
          },
          "metadata": {}
        },
        {
          "output_type": "stream",
          "text": "<SparkContext master=yarn appName=livy-session-9>",
          "name": "stdout"
        }
      ]
    },
    {
      "metadata": {
        "trusted": true,
        "id": "H9NsX5TKXtUe",
        "outputId": "31ebb471-e652-4903-db52-3042a863978e",
        "colab": {
          "referenced_widgets": [
            ""
          ]
        }
      },
      "cell_type": "code",
      "source": [
        "# WORDCOUNT COMPACTO\n",
        "files_rdd = sc.textFile(\"s3://big-data-topicos/bigdata/datasets/gutenberg-small/*.txt\")\n",
        "wc_unsort = files_rdd.flatMap(lambda line: line.split()).map(lambda word: (word, 1)).reduceByKey(lambda a, b: a + b)\n",
        "wc = wc_unsort.sortBy(lambda a: -a[1])\n",
        "for tupla in wc.take(10):\n",
        "        print(tupla)"
      ],
      "execution_count": null,
      "outputs": [
        {
          "output_type": "display_data",
          "data": {
            "text/plain": "FloatProgress(value=0.0, bar_style='info', description='Progress:', layout=Layout(height='25px', width='50%'),…",
            "application/vnd.jupyter.widget-view+json": {
              "version_major": 2,
              "version_minor": 0,
              "model_id": ""
            }
          },
          "metadata": {}
        },
        {
          "output_type": "stream",
          "text": "('the', 44647)\n('of', 28020)\n('to', 23208)\n('and', 20444)\n('in', 13174)\n('that', 12265)\n('I', 10880)\n('a', 10431)\n('is', 7776)\n('be', 7148)",
          "name": "stdout"
        }
      ]
    },
    {
      "metadata": {
        "trusted": true,
        "id": "qbFmW-KLXtUf",
        "outputId": "61d2b53a-5717-4df8-d905-b7ddb61018d6",
        "colab": {
          "referenced_widgets": [
            ""
          ]
        }
      },
      "cell_type": "code",
      "source": [
        "# WORDCOUNT PASO A PASO"
      ],
      "execution_count": null,
      "outputs": [
        {
          "output_type": "display_data",
          "data": {
            "text/plain": "FloatProgress(value=0.0, bar_style='info', description='Progress:', layout=Layout(height='25px', width='50%'),…",
            "application/vnd.jupyter.widget-view+json": {
              "version_major": 2,
              "version_minor": 0,
              "model_id": ""
            }
          },
          "metadata": {}
        }
      ]
    },
    {
      "metadata": {
        "trusted": true,
        "id": "paP-F4OoXtUf",
        "outputId": "d2ed721b-03b0-4c14-8b93-f00548828ea1",
        "colab": {
          "referenced_widgets": [
            ""
          ]
        }
      },
      "cell_type": "code",
      "source": [
        "files_rdd = sc.textFile(\"s3://big-data-topicos/bigdata/datasets/gutenberg-small/*.txt\")\n",
        "#files = sc.textFile(\"hdfs:///user/hadoop/datasets/gutenberg-small/*.txt\")\n",
        "for f in files_rdd.take(10):\n",
        "    print(f)"
      ],
      "execution_count": null,
      "outputs": [
        {
          "output_type": "display_data",
          "data": {
            "text/plain": "FloatProgress(value=0.0, bar_style='info', description='Progress:', layout=Layout(height='25px', width='50%'),…",
            "application/vnd.jupyter.widget-view+json": {
              "version_major": 2,
              "version_minor": 0,
              "model_id": ""
            }
          },
          "metadata": {}
        },
        {
          "output_type": "stream",
          "text": "\nLINCOLN LETTERS\n\nBy Abraham Lincoln\n\n\nPublished by The Bibilophile Society",
          "name": "stdout"
        }
      ]
    },
    {
      "metadata": {
        "trusted": true,
        "id": "uOv_HVF5XtUg",
        "outputId": "4670630f-6a0e-4bf2-f1d7-6e99bc10bf28",
        "colab": {
          "referenced_widgets": [
            ""
          ]
        }
      },
      "cell_type": "code",
      "source": [
        "tokens = files_rdd.flatMap(lambda line: line.split())\n",
        "for t in tokens.take(10):\n",
        "    print(t)"
      ],
      "execution_count": null,
      "outputs": [
        {
          "output_type": "display_data",
          "data": {
            "text/plain": "FloatProgress(value=0.0, bar_style='info', description='Progress:', layout=Layout(height='25px', width='50%'),…",
            "application/vnd.jupyter.widget-view+json": {
              "version_major": 2,
              "version_minor": 0,
              "model_id": ""
            }
          },
          "metadata": {}
        },
        {
          "output_type": "stream",
          "text": "LINCOLN\nLETTERS\nBy\nAbraham\nLincoln\nPublished\nby\nThe\nBibilophile\nSociety",
          "name": "stdout"
        }
      ]
    },
    {
      "metadata": {
        "trusted": true,
        "id": "D1K99lA9XtUg",
        "outputId": "5fde423e-e45d-4eb5-bd87-9f970e31c171",
        "colab": {
          "referenced_widgets": [
            ""
          ]
        }
      },
      "cell_type": "code",
      "source": [
        "wc1 = tokens.map(lambda word: (word, 1))\n",
        "for c in wc1.take(10):\n",
        "    print(c)"
      ],
      "execution_count": null,
      "outputs": [
        {
          "output_type": "display_data",
          "data": {
            "text/plain": "FloatProgress(value=0.0, bar_style='info', description='Progress:', layout=Layout(height='25px', width='50%'),…",
            "application/vnd.jupyter.widget-view+json": {
              "version_major": 2,
              "version_minor": 0,
              "model_id": ""
            }
          },
          "metadata": {}
        },
        {
          "output_type": "stream",
          "text": "('LINCOLN', 1)\n('LETTERS', 1)\n('By', 1)\n('Abraham', 1)\n('Lincoln', 1)\n('Published', 1)\n('by', 1)\n('The', 1)\n('Bibilophile', 1)\n('Society', 1)",
          "name": "stdout"
        }
      ]
    },
    {
      "metadata": {
        "trusted": true,
        "id": "Z8hbRgPfXtUh",
        "outputId": "3906626f-a07b-4089-e54d-c486d9967f28",
        "colab": {
          "referenced_widgets": [
            ""
          ]
        }
      },
      "cell_type": "code",
      "source": [
        "wc = wc1.reduceByKey(lambda a, b: a + b)\n",
        "for c in wc.take(10):\n",
        "    print(c)"
      ],
      "execution_count": null,
      "outputs": [
        {
          "output_type": "display_data",
          "data": {
            "text/plain": "FloatProgress(value=0.0, bar_style='info', description='Progress:', layout=Layout(height='25px', width='50%'),…",
            "application/vnd.jupyter.widget-view+json": {
              "version_major": 2,
              "version_minor": 0,
              "model_id": ""
            }
          },
          "metadata": {}
        },
        {
          "output_type": "stream",
          "text": "('thoroughly', 15)\n('themselves', 192)\n('them.', 371)\n('letter', 312)\n('A.', 1456)\n('ORIGINALS', 1)\n('THEY', 1)\n('sum', 59)\n('singular', 18)\n('let', 414)",
          "name": "stdout"
        }
      ]
    },
    {
      "metadata": {
        "trusted": true,
        "id": "sVX2pv_aXtUh",
        "outputId": "d1209cc1-847b-4162-e579-2350e0d5b4e7",
        "colab": {
          "referenced_widgets": [
            ""
          ]
        }
      },
      "cell_type": "code",
      "source": [
        "wcsort = wc.sortBy(lambda a: -a[1])\n",
        "for c in wcsort.take(10):\n",
        "    print(c)"
      ],
      "execution_count": null,
      "outputs": [
        {
          "output_type": "display_data",
          "data": {
            "text/plain": "FloatProgress(value=0.0, bar_style='info', description='Progress:', layout=Layout(height='25px', width='50%'),…",
            "application/vnd.jupyter.widget-view+json": {
              "version_major": 2,
              "version_minor": 0,
              "model_id": ""
            }
          },
          "metadata": {}
        },
        {
          "output_type": "stream",
          "text": "('the', 44647)\n('of', 28020)\n('to', 23208)\n('and', 20444)\n('in', 13174)\n('that', 12265)\n('I', 10880)\n('a', 10431)\n('is', 7776)\n('be', 7148)",
          "name": "stdout"
        }
      ]
    },
    {
      "metadata": {
        "scrolled": false,
        "trusted": true,
        "id": "isd5ZUO-XtUi",
        "outputId": "d4bfed39-546d-46e0-b8dc-7440b7eb41f1",
        "colab": {
          "referenced_widgets": [
            ""
          ]
        }
      },
      "cell_type": "code",
      "source": [
        "#salvar los datos de salida, fijarse que no exista: hdfs:///tmp/<your-username>wcout10\n",
        "wc.coalesce(1).saveAsTextFile(\"hdfs:///tmp/1/wcout2\")\n",
        "#si esta trabajando en aws (igual verifique que no exista previamente wcout10):\n",
        "wc.coalesce(1).saveAsTextFile(\"s3://big-data-topicos/1/wcout2\")"
      ],
      "execution_count": null,
      "outputs": [
        {
          "output_type": "display_data",
          "data": {
            "text/plain": "FloatProgress(value=0.0, bar_style='info', description='Progress:', layout=Layout(height='25px', width='50%'),…",
            "application/vnd.jupyter.widget-view+json": {
              "version_major": 2,
              "version_minor": 0,
              "model_id": ""
            }
          },
          "metadata": {}
        }
      ]
    }
  ],
  "metadata": {
    "kernelspec": {
      "name": "pysparkkernel",
      "display_name": "PySpark",
      "language": "python"
    },
    "language_info": {
      "name": "pyspark",
      "mimetype": "text/x-python",
      "codemirror_mode": {
        "name": "python",
        "version": 3
      },
      "file_extension": ".py",
      "pygments_lexer": "python3"
    },
    "colab": {
      "provenance": []
    }
  },
  "nbformat": 4,
  "nbformat_minor": 0
}